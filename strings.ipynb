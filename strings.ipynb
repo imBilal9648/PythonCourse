{
 "cells": [
  {
   "cell_type": "markdown",
   "metadata": {},
   "source": [
    "# String functions\n",
    "\n",
    "- formating\n",
    "- validation\n",
    "- utility"
   ]
  },
  {
   "cell_type": "code",
   "execution_count": 1,
   "metadata": {},
   "outputs": [],
   "source": [
    "x = 29032\n",
    "a = 'laptop'\n",
    "c = 'cosumener id'"
   ]
  },
  {
   "cell_type": "code",
   "execution_count": 2,
   "metadata": {},
   "outputs": [
    {
     "name": "stdout",
     "output_type": "stream",
     "text": [
      "the laptop was purchased via cosumener id = 29032\n"
     ]
    }
   ],
   "source": [
    "print(\"the {} was purchased via {} = {}\".format(a,c,x))"
   ]
  },
  {
   "cell_type": "code",
   "execution_count": 3,
   "metadata": {},
   "outputs": [
    {
     "name": "stdout",
     "output_type": "stream",
     "text": [
      "the laptop was purchased via cosumener id = 29032\n"
     ]
    }
   ],
   "source": [
    "print(f'the {a} was purchased via {c} = {x}')"
   ]
  },
  {
   "cell_type": "code",
   "execution_count": 4,
   "metadata": {},
   "outputs": [],
   "source": [
    "quote = \"Life before Death, Hope before Despair, journey before Destination\""
   ]
  },
  {
   "cell_type": "code",
   "execution_count": 5,
   "metadata": {},
   "outputs": [
    {
     "data": {
      "text/plain": [
       "'life before death, hope before despair, journey before destination'"
      ]
     },
     "execution_count": 5,
     "metadata": {},
     "output_type": "execute_result"
    }
   ],
   "source": [
    "quote.lower()"
   ]
  },
  {
   "cell_type": "code",
   "execution_count": 6,
   "metadata": {},
   "outputs": [
    {
     "data": {
      "text/plain": [
       "'life before death, hope before despair, journey before destination'"
      ]
     },
     "execution_count": 6,
     "metadata": {},
     "output_type": "execute_result"
    }
   ],
   "source": [
    "quote.casefold()"
   ]
  },
  {
   "cell_type": "code",
   "execution_count": 7,
   "metadata": {},
   "outputs": [
    {
     "data": {
      "text/plain": [
       "'Life Before Death, Hope Before Despair, Journey Before Destination'"
      ]
     },
     "execution_count": 7,
     "metadata": {},
     "output_type": "execute_result"
    }
   ],
   "source": [
    "quote.title()"
   ]
  },
  {
   "cell_type": "code",
   "execution_count": 11,
   "metadata": {},
   "outputs": [
    {
     "data": {
      "text/plain": [
       "'Life before death, hope before despair, journey before destination'"
      ]
     },
     "execution_count": 11,
     "metadata": {},
     "output_type": "execute_result"
    }
   ],
   "source": [
    "quote.capitalize()"
   ]
  },
  {
   "cell_type": "code",
   "execution_count": 12,
   "metadata": {},
   "outputs": [
    {
     "data": {
      "text/plain": [
       "'lIFE BEFORE dEATH, hOPE BEFORE dESPAIR, JOURNEY BEFORE dESTINATION'"
      ]
     },
     "execution_count": 12,
     "metadata": {},
     "output_type": "execute_result"
    }
   ],
   "source": [
    "quote.swapcase()"
   ]
  },
  {
   "cell_type": "code",
   "execution_count": 13,
   "metadata": {},
   "outputs": [
    {
     "data": {
      "text/plain": [
       "'laptop'"
      ]
     },
     "execution_count": 13,
     "metadata": {},
     "output_type": "execute_result"
    }
   ],
   "source": [
    "a"
   ]
  },
  {
   "cell_type": "code",
   "execution_count": 16,
   "metadata": {},
   "outputs": [
    {
     "data": {
      "text/plain": [
       "'laptop                                            '"
      ]
     },
     "execution_count": 16,
     "metadata": {},
     "output_type": "execute_result"
    }
   ],
   "source": [
    "a.ljust(50)"
   ]
  },
  {
   "cell_type": "code",
   "execution_count": 17,
   "metadata": {},
   "outputs": [
    {
     "data": {
      "text/plain": [
       "'                                            laptop'"
      ]
     },
     "execution_count": 17,
     "metadata": {},
     "output_type": "execute_result"
    }
   ],
   "source": [
    "a.rjust(50)"
   ]
  },
  {
   "cell_type": "code",
   "execution_count": 18,
   "metadata": {},
   "outputs": [
    {
     "data": {
      "text/plain": [
       "'                      laptop                      '"
      ]
     },
     "execution_count": 18,
     "metadata": {},
     "output_type": "execute_result"
    }
   ],
   "source": [
    "a.center(50)"
   ]
  },
  {
   "cell_type": "code",
   "execution_count": 19,
   "metadata": {},
   "outputs": [
    {
     "name": "stdout",
     "output_type": "stream",
     "text": [
      "5 9765625\n",
      "6 60466176\n",
      "7 282475249\n",
      "8 1073741824\n",
      "9 3486784401\n",
      "10 10000000000\n",
      "11 25937424601\n",
      "12 61917364224\n",
      "13 137858491849\n",
      "14 289254654976\n"
     ]
    }
   ],
   "source": [
    "for i in range(5,15):\n",
    "    print(i,i**10)"
   ]
  },
  {
   "cell_type": "code",
   "execution_count": 21,
   "metadata": {},
   "outputs": [
    {
     "name": "stdout",
     "output_type": "stream",
     "text": [
      "5             9765625\n",
      "6            60466176\n",
      "7           282475249\n",
      "8          1073741824\n",
      "9          3486784401\n",
      "10        10000000000\n",
      "11        25937424601\n",
      "12        61917364224\n",
      "13       137858491849\n",
      "14       289254654976\n"
     ]
    }
   ],
   "source": [
    "for i in range(5,15):\n",
    "    print(str(i).ljust(5),str(i**10).rjust(15))"
   ]
  },
  {
   "cell_type": "code",
   "execution_count": 23,
   "metadata": {},
   "outputs": [
    {
     "data": {
      "text/plain": [
       "True"
      ]
     },
     "execution_count": 23,
     "metadata": {},
     "output_type": "execute_result"
    }
   ],
   "source": [
    "x = \"word\"\n",
    "x.isalpha()"
   ]
  },
  {
   "cell_type": "code",
   "execution_count": 24,
   "metadata": {},
   "outputs": [
    {
     "name": "stdout",
     "output_type": "stream",
     "text": [
      "Life before Death, Hope before Despair, journey before Destination\n"
     ]
    },
    {
     "data": {
      "text/plain": [
       "False"
      ]
     },
     "execution_count": 24,
     "metadata": {},
     "output_type": "execute_result"
    }
   ],
   "source": [
    "print(quote)\n",
    "quote.isalpha()"
   ]
  },
  {
   "cell_type": "code",
   "execution_count": 25,
   "metadata": {},
   "outputs": [
    {
     "data": {
      "text/plain": [
       "True"
      ]
     },
     "execution_count": 25,
     "metadata": {},
     "output_type": "execute_result"
    }
   ],
   "source": [
    "x.isascii()"
   ]
  },
  {
   "cell_type": "code",
   "execution_count": 26,
   "metadata": {},
   "outputs": [
    {
     "data": {
      "text/plain": [
       "'word'"
      ]
     },
     "execution_count": 26,
     "metadata": {},
     "output_type": "execute_result"
    }
   ],
   "source": [
    "x"
   ]
  },
  {
   "cell_type": "code",
   "execution_count": 27,
   "metadata": {},
   "outputs": [
    {
     "data": {
      "text/plain": [
       "'.isascii()'"
      ]
     },
     "execution_count": 27,
     "metadata": {},
     "output_type": "execute_result"
    }
   ],
   "source": [
    "\".isascii()\""
   ]
  },
  {
   "cell_type": "markdown",
   "metadata": {},
   "source": [
    "# Wap to remove all the vowels"
   ]
  },
  {
   "cell_type": "code",
   "execution_count": 31,
   "metadata": {},
   "outputs": [
    {
     "name": "stdout",
     "output_type": "stream",
     "text": [
      "my n m   s B l l\n"
     ]
    }
   ],
   "source": [
    "junk =\"my name is Bilal\"\n",
    "vowels =\"aeiouAEIOU\"\n",
    "for vowel in vowels:\n",
    "    junk = junk.replace(vowel,\" \")\n",
    "print(junk)    "
   ]
  },
  {
   "cell_type": "markdown",
   "metadata": {},
   "source": [
    "# Wap to program to replace special chracters with _"
   ]
  },
  {
   "cell_type": "code",
   "execution_count": 34,
   "metadata": {},
   "outputs": [
    {
     "name": "stdout",
     "output_type": "stream",
     "text": [
      "bilal__mirza0522_gmail.com\n"
     ]
    }
   ],
   "source": [
    "demo = \"bilal*$mirza0522@gmail.com\"\n",
    "speical_char = \"!@#$%^&*()_\"\n",
    "for special in speical_char:\n",
    "    demo = demo.replace(special,\"_\")\n",
    "print(demo)\n"
   ]
  },
  {
   "cell_type": "code",
   "execution_count": 35,
   "metadata": {},
   "outputs": [
    {
     "data": {
      "text/plain": [
       "['Life',\n",
       " 'before',\n",
       " 'Death,',\n",
       " 'Hope',\n",
       " 'before',\n",
       " 'Despair,',\n",
       " 'journey',\n",
       " 'before',\n",
       " 'Destination']"
      ]
     },
     "execution_count": 35,
     "metadata": {},
     "output_type": "execute_result"
    }
   ],
   "source": [
    "quote.split()"
   ]
  },
  {
   "cell_type": "code",
   "execution_count": 36,
   "metadata": {},
   "outputs": [],
   "source": [
    "str2 =\"hi,i,am,bilal\""
   ]
  },
  {
   "cell_type": "code",
   "execution_count": 37,
   "metadata": {},
   "outputs": [
    {
     "data": {
      "text/plain": [
       "['hi,i,am,bilal']"
      ]
     },
     "execution_count": 37,
     "metadata": {},
     "output_type": "execute_result"
    }
   ],
   "source": [
    "str2.split()"
   ]
  },
  {
   "cell_type": "code",
   "execution_count": 41,
   "metadata": {},
   "outputs": [
    {
     "name": "stdout",
     "output_type": "stream",
     "text": [
      "we have 4 words in str2\n"
     ]
    }
   ],
   "source": [
    "li1= str2.split(\",\")\n",
    "print(\"we have\",len(li1),\"words in str2\")"
   ]
  },
  {
   "cell_type": "code",
   "execution_count": 42,
   "metadata": {},
   "outputs": [
    {
     "data": {
      "text/plain": [
       "'Life before Death, Hope before Despair, journey before Destination'"
      ]
     },
     "execution_count": 42,
     "metadata": {},
     "output_type": "execute_result"
    }
   ],
   "source": [
    "quote"
   ]
  },
  {
   "cell_type": "code",
   "execution_count": 43,
   "metadata": {},
   "outputs": [
    {
     "data": {
      "text/plain": [
       "['Lif',\n",
       " ' b',\n",
       " 'for',\n",
       " ' D',\n",
       " 'ath, Hop',\n",
       " ' b',\n",
       " 'for',\n",
       " ' D',\n",
       " 'spair, journ',\n",
       " 'y b',\n",
       " 'for',\n",
       " ' D',\n",
       " 'stination']"
      ]
     },
     "execution_count": 43,
     "metadata": {},
     "output_type": "execute_result"
    }
   ],
   "source": [
    "quote.split(\"e\")"
   ]
  },
  {
   "cell_type": "code",
   "execution_count": 8,
   "metadata": {},
   "outputs": [],
   "source": [
    "message = \"this is a place where we have written a message. this is a place where we more messages\""
   ]
  },
  {
   "cell_type": "code",
   "execution_count": 9,
   "metadata": {},
   "outputs": [
    {
     "data": {
      "text/plain": [
       "8"
      ]
     },
     "execution_count": 9,
     "metadata": {},
     "output_type": "execute_result"
    }
   ],
   "source": [
    "message.count(\"a\")"
   ]
  },
  {
   "cell_type": "code",
   "execution_count": 10,
   "metadata": {},
   "outputs": [
    {
     "data": {
      "text/plain": [
       "0"
      ]
     },
     "execution_count": 10,
     "metadata": {},
     "output_type": "execute_result"
    }
   ],
   "source": [
    "message.count('plant')"
   ]
  },
  {
   "cell_type": "code",
   "execution_count": 11,
   "metadata": {},
   "outputs": [
    {
     "data": {
      "text/plain": [
       "2"
      ]
     },
     "execution_count": 11,
     "metadata": {},
     "output_type": "execute_result"
    }
   ],
   "source": [
    "message.count('place')"
   ]
  },
  {
   "cell_type": "markdown",
   "metadata": {},
   "source": [
    "# alphabet counter"
   ]
  },
  {
   "cell_type": "code",
   "execution_count": 12,
   "metadata": {},
   "outputs": [
    {
     "name": "stdout",
     "output_type": "stream",
     "text": [
      "a : 8\n",
      "b : 0\n",
      "c : 2\n",
      "d : 0\n",
      "e : 15\n",
      "f : 0\n",
      "g : 2\n",
      "h : 5\n",
      "i : 5\n",
      "j : 0\n",
      "k : 0\n",
      "l : 2\n",
      "m : 3\n",
      "n : 1\n",
      "o : 1\n",
      "p : 2\n",
      "q : 0\n",
      "r : 4\n",
      "s : 9\n",
      "t : 4\n",
      "u : 0\n",
      "v : 1\n",
      "w : 5\n",
      "x : 0\n",
      "y : 0\n",
      "z : 0\n"
     ]
    }
   ],
   "source": [
    "for char in \"abcdefghijklmnopqrstuvwxyz\":\n",
    "    print(f\"{char} : {message.count(char)}\")"
   ]
  },
  {
   "cell_type": "code",
   "execution_count": 13,
   "metadata": {},
   "outputs": [
    {
     "name": "stdout",
     "output_type": "stream",
     "text": [
      "a : 8\n",
      "c : 2\n",
      "e : 15\n",
      "g : 2\n",
      "h : 5\n",
      "i : 5\n",
      "l : 2\n",
      "m : 3\n",
      "n : 1\n",
      "o : 1\n",
      "p : 2\n",
      "r : 4\n",
      "s : 9\n",
      "t : 4\n",
      "v : 1\n",
      "w : 5\n"
     ]
    }
   ],
   "source": [
    "for char in \"abcdefghijklmnopqrstuvwxyz\":\n",
    "    count = message.count(char)\n",
    "    if count> 0:\n",
    "        print(f\"{char} : {message.count(char)}\")"
   ]
  },
  {
   "cell_type": "code",
   "execution_count": 14,
   "metadata": {},
   "outputs": [
    {
     "data": {
      "text/plain": [
       "18"
      ]
     },
     "execution_count": 14,
     "metadata": {},
     "output_type": "execute_result"
    }
   ],
   "source": [
    "len(message.split())"
   ]
  },
  {
   "cell_type": "markdown",
   "metadata": {},
   "source": [
    "# word counter"
   ]
  },
  {
   "cell_type": "code",
   "execution_count": 15,
   "metadata": {},
   "outputs": [
    {
     "name": "stdout",
     "output_type": "stream",
     "text": [
      "{'messages', 'have', 'message.', 'this', 'is', 'written', 'we', 'a', 'where', 'more', 'place'}\n"
     ]
    }
   ],
   "source": [
    "unique_words = set(message.split()) # set is used to get only unique values\n",
    "print(unique_words)"
   ]
  },
  {
   "cell_type": "code",
   "execution_count": 19,
   "metadata": {},
   "outputs": [
    {
     "name": "stdout",
     "output_type": "stream",
     "text": [
      "messages -> 1\n",
      "have -> 1\n",
      "message. -> 1\n",
      "this -> 2\n",
      "is -> 2\n",
      "written -> 1\n",
      "we -> 2\n",
      "a -> 3\n",
      "where -> 2\n",
      "more -> 1\n",
      "place -> 2\n"
     ]
    }
   ],
   "source": [
    "for word in unique_words:\n",
    "    word_list = message.split()\n",
    "    wc = word_list.count(word)\n",
    "    print (f\"{word} -> {wc}\")"
   ]
  },
  {
   "cell_type": "code",
   "execution_count": 29,
   "metadata": {},
   "outputs": [
    {
     "data": {
      "text/plain": [
       "['this', 'is', 'sparta']"
      ]
     },
     "execution_count": 29,
     "metadata": {},
     "output_type": "execute_result"
    }
   ],
   "source": [
    "\"this is sparta \".split()"
   ]
  },
  {
   "cell_type": "code",
   "execution_count": 30,
   "metadata": {},
   "outputs": [],
   "source": [
    "q =\"The only step a person can take is, the next step\""
   ]
  },
  {
   "cell_type": "code",
   "execution_count": 31,
   "metadata": {},
   "outputs": [
    {
     "data": {
      "text/plain": [
       "16"
      ]
     },
     "execution_count": 31,
     "metadata": {},
     "output_type": "execute_result"
    }
   ],
   "source": [
    "q.find('person')"
   ]
  },
  {
   "cell_type": "code",
   "execution_count": 35,
   "metadata": {},
   "outputs": [
    {
     "data": {
      "text/plain": [
       "4"
      ]
     },
     "execution_count": 35,
     "metadata": {},
     "output_type": "execute_result"
    }
   ],
   "source": [
    "q.find('only')"
   ]
  },
  {
   "cell_type": "code",
   "execution_count": 33,
   "metadata": {},
   "outputs": [
    {
     "data": {
      "text/plain": [
       "9"
      ]
     },
     "execution_count": 33,
     "metadata": {},
     "output_type": "execute_result"
    }
   ],
   "source": [
    "q.find('step')"
   ]
  },
  {
   "cell_type": "code",
   "execution_count": 34,
   "metadata": {},
   "outputs": [
    {
     "data": {
      "text/plain": [
       "45"
      ]
     },
     "execution_count": 34,
     "metadata": {},
     "output_type": "execute_result"
    }
   ],
   "source": [
    "q.rfind('step')"
   ]
  },
  {
   "cell_type": "markdown",
   "metadata": {},
   "source": [
    "# Program to check if the data provided by the user is numeric or not ,if its numeric, convert it to int else check if it contains any numbers and extract that numbers"
   ]
  },
  {
   "cell_type": "code",
   "execution_count": 40,
   "metadata": {},
   "outputs": [
    {
     "name": "stdout",
     "output_type": "stream",
     "text": [
      "number: 9648\n"
     ]
    }
   ],
   "source": [
    "data = input(\"enter a data:\")\n",
    "if data.isnumeric():\n",
    "    num = int(data)\n",
    "    print(\"number:\",num)\n",
    "else:\n",
    "    temp = \"\" # no space\n",
    "    for c in data:\n",
    "        if c.isnumeric():\n",
    "            temp+=c\n",
    "    num = int(temp)\n",
    "    print(\"extracted number:\",num)            "
   ]
  },
  {
   "cell_type": "markdown",
   "metadata": {},
   "source": [
    "# remove all the punctuations from the following string\n",
    "@@Hello#! ^%%!@Wo*(){}rld!!!"
   ]
  },
  {
   "cell_type": "code",
   "execution_count": 45,
   "metadata": {},
   "outputs": [],
   "source": [
    "from string import punctuation"
   ]
  },
  {
   "cell_type": "code",
   "execution_count": 43,
   "metadata": {},
   "outputs": [
    {
     "name": "stdout",
     "output_type": "stream",
     "text": [
      "Hello World\n"
     ]
    }
   ],
   "source": [
    "code = \"@@Hello#! ^%%!@Wo*(){}rld!!!\"\n",
    "for punc in punctuation:\n",
    "    code = code.replace(punc,\"\")\n",
    "print(code)    "
   ]
  },
  {
   "cell_type": "code",
   "execution_count": null,
   "metadata": {},
   "outputs": [],
   "source": []
  }
 ],
 "metadata": {
  "interpreter": {
   "hash": "57f11aeb1dcaced031ce0a03bd916c082c2d8b27dffc26ca52ba74256b815c23"
  },
  "kernelspec": {
   "display_name": "Python 3.9.5 ('base')",
   "language": "python",
   "name": "python3"
  },
  "language_info": {
   "codemirror_mode": {
    "name": "ipython",
    "version": 3
   },
   "file_extension": ".py",
   "mimetype": "text/x-python",
   "name": "python",
   "nbconvert_exporter": "python",
   "pygments_lexer": "ipython3",
   "version": "3.9.5"
  },
  "orig_nbformat": 4
 },
 "nbformat": 4,
 "nbformat_minor": 2
}
