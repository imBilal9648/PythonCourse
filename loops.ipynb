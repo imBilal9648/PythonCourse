{
 "cells": [
  {
   "cell_type": "code",
   "execution_count": 2,
   "metadata": {},
   "outputs": [
    {
     "name": "stdout",
     "output_type": "stream",
     "text": [
      "0\n",
      "1\n",
      "2\n",
      "3\n",
      "4\n",
      "5\n",
      "6\n",
      "7\n",
      "8\n",
      "9\n"
     ]
    }
   ],
   "source": [
    "for i in range(10):\n",
    "    print(i)"
   ]
  },
  {
   "cell_type": "code",
   "execution_count": 3,
   "metadata": {},
   "outputs": [
    {
     "name": "stdout",
     "output_type": "stream",
     "text": [
      "1\n",
      "2\n",
      "3\n",
      "4\n",
      "5\n",
      "6\n",
      "7\n",
      "8\n",
      "9\n"
     ]
    }
   ],
   "source": [
    "for i in range(1,10):\n",
    "    print(i)"
   ]
  },
  {
   "cell_type": "code",
   "execution_count": 4,
   "metadata": {},
   "outputs": [
    {
     "name": "stdout",
     "output_type": "stream",
     "text": [
      "1\n",
      "3\n",
      "5\n",
      "7\n",
      "9\n"
     ]
    }
   ],
   "source": [
    "for i in range(1,10,2):\n",
    "    print(i)"
   ]
  },
  {
   "cell_type": "code",
   "execution_count": 5,
   "metadata": {},
   "outputs": [
    {
     "name": "stdout",
     "output_type": "stream",
     "text": [
      "2\n",
      "4\n",
      "6\n",
      "8\n"
     ]
    }
   ],
   "source": [
    "for i in range(2,10,2):\n",
    "    print(i)"
   ]
  },
  {
   "cell_type": "code",
   "execution_count": 6,
   "metadata": {},
   "outputs": [
    {
     "name": "stdout",
     "output_type": "stream",
     "text": [
      "2\n",
      "5\n",
      "8\n"
     ]
    }
   ],
   "source": [
    "for i in range(2,10,3):\n",
    "    print(i)"
   ]
  },
  {
   "cell_type": "code",
   "execution_count": 7,
   "metadata": {},
   "outputs": [
    {
     "name": "stdout",
     "output_type": "stream",
     "text": [
      "1 is odd\n",
      "2 is even\n",
      "3 is odd\n",
      "4 is even\n",
      "5 is odd\n",
      "6 is even\n",
      "7 is odd\n",
      "8 is even\n",
      "9 is odd\n",
      "10 is even\n"
     ]
    }
   ],
   "source": [
    "# odd or even\n",
    "for i in range(1,11):\n",
    "    if i % 2 == 0:\n",
    "        print(f'{i} is even')\n",
    "    else:\n",
    "        print(f'{i} is odd')    "
   ]
  },
  {
   "cell_type": "markdown",
   "metadata": {},
   "source": [
    "### add all the even numbers from 1 to 19, display the result"
   ]
  },
  {
   "cell_type": "code",
   "execution_count": 13,
   "metadata": {},
   "outputs": [
    {
     "name": "stdout",
     "output_type": "stream",
     "text": [
      "sum = 90\n"
     ]
    }
   ],
   "source": [
    "sum = 0\n",
    "for i in range(1,20):\n",
    "    if i % 2 == 0:\n",
    "        sum = sum + i\n",
    "print('sum =', sum)        "
   ]
  },
  {
   "cell_type": "markdown",
   "metadata": {},
   "source": [
    "### alternative method"
   ]
  },
  {
   "cell_type": "code",
   "execution_count": 14,
   "metadata": {},
   "outputs": [
    {
     "name": "stdout",
     "output_type": "stream",
     "text": [
      "total = 90\n"
     ]
    }
   ],
   "source": [
    "total = 0\n",
    "for i in range(2,20,2):\n",
    "    total += i\n",
    "print('total =',total)     "
   ]
  },
  {
   "cell_type": "markdown",
   "metadata": {},
   "source": [
    "### add all the odd numbers from 1,10 and display the average value"
   ]
  },
  {
   "cell_type": "code",
   "execution_count": 15,
   "metadata": {},
   "outputs": [
    {
     "name": "stdout",
     "output_type": "stream",
     "text": [
      "average is = 2.5\n"
     ]
    }
   ],
   "source": [
    "_total_ = 0\n",
    "for i in range(1,11,2):\n",
    "    _total_+= i\n",
    "avg = _total_ / 10\n",
    "print('average is =',avg)     "
   ]
  },
  {
   "cell_type": "code",
   "execution_count": 20,
   "metadata": {},
   "outputs": [
    {
     "name": "stdout",
     "output_type": "stream",
     "text": [
      "total expenses added is 0\n"
     ]
    }
   ],
   "source": [
    "expenses = 0\n",
    "while input('do you want to add some expense:[y/n]') == 'y':\n",
    "    val = int(input(\"enter amount of expense:\"))\n",
    "    expenses += val\n",
    "\n",
    "print(f'total expenses added is {expenses}')"
   ]
  },
  {
   "cell_type": "code",
   "execution_count": 21,
   "metadata": {},
   "outputs": [
    {
     "data": {
      "text/plain": [
       "10"
      ]
     },
     "execution_count": 21,
     "metadata": {},
     "output_type": "execute_result"
    }
   ],
   "source": [
    "names= ['fawaz','adarsh','','ashish','','harsh','','mugdha','bilal','saif']\n",
    "len(names)"
   ]
  },
  {
   "cell_type": "code",
   "execution_count": 22,
   "metadata": {},
   "outputs": [
    {
     "name": "stdout",
     "output_type": "stream",
     "text": [
      "fawaz is person\n",
      "adarsh is person\n",
      "ashish is person\n",
      "harsh is person\n",
      "mugdha is person\n",
      "bilal is person\n",
      "saif is person\n"
     ]
    }
   ],
   "source": [
    "for name in names:\n",
    "    if len(name) == 0:\n",
    "        continue\n",
    "    print(f'{name} is person') "
   ]
  },
  {
   "cell_type": "code",
   "execution_count": 23,
   "metadata": {},
   "outputs": [
    {
     "name": "stdout",
     "output_type": "stream",
     "text": [
      "fawaz is person\n",
      "adarsh is person\n",
      "ashish is person\n",
      "harsh is person\n",
      "mugdha is person\n",
      "bilal is person\n",
      "saif is person\n"
     ]
    }
   ],
   "source": [
    "for name in names:\n",
    "    if len(name) > 0:\n",
    "        print(f'{name} is person') "
   ]
  },
  {
   "cell_type": "code",
   "execution_count": 25,
   "metadata": {},
   "outputs": [
    {
     "name": "stdout",
     "output_type": "stream",
     "text": [
      "total expenses added is 131476\n"
     ]
    }
   ],
   "source": [
    "expenses = 0\n",
    "while True: # infinite\n",
    "    val = input('enter amount:')\n",
    "    if len(val)==0:\n",
    "        break\n",
    "    expenses += int(val)    \n",
    "\n",
    "print(f'total expenses added is {expenses}')"
   ]
  },
  {
   "cell_type": "code",
   "execution_count": 26,
   "metadata": {},
   "outputs": [
    {
     "name": "stdout",
     "output_type": "stream",
     "text": [
      "0 1 2 3 4 success\n"
     ]
    }
   ],
   "source": [
    "for i in range(5):\n",
    "    print(i,end=' ')\n",
    "else:\n",
    "    print('success')"
   ]
  },
  {
   "cell_type": "code",
   "execution_count": 32,
   "metadata": {},
   "outputs": [
    {
     "name": "stdout",
     "output_type": "stream",
     "text": [
      "0 1 "
     ]
    }
   ],
   "source": [
    "stopval = int(input('enter a stop value'))\n",
    "for i in range(5):\n",
    "    if i == stopval:\n",
    "        break\n",
    "    print(i,end=' ')\n",
    "else:\n",
    "    print('success')"
   ]
  },
  {
   "cell_type": "code",
   "execution_count": 33,
   "metadata": {},
   "outputs": [
    {
     "name": "stdout",
     "output_type": "stream",
     "text": [
      "💥Prime number: 7\n"
     ]
    }
   ],
   "source": [
    "# prime\n",
    "num = int(input('enter a prime number:'))\n",
    "for i in range(2,num):\n",
    "    if num%i==0:\n",
    "        print(f'☢ not prime:{num}')\n",
    "        break\n",
    "else:\n",
    "    print(f\"💥Prime number: {num}\")"
   ]
  },
  {
   "cell_type": "markdown",
   "metadata": {},
   "source": [
    "### print all the factors of a number given by user"
   ]
  },
  {
   "cell_type": "code",
   "execution_count": 36,
   "metadata": {},
   "outputs": [
    {
     "name": "stdout",
     "output_type": "stream",
     "text": [
      "1 2 3 5 6 9 10 15 18 30 45 90 "
     ]
    }
   ],
   "source": [
    "x = 90\n",
    "for i in range(1,x+1):\n",
    "    if x % i ==0:\n",
    "        print(i,end=' ')"
   ]
  },
  {
   "cell_type": "markdown",
   "metadata": {},
   "source": [
    "### print the LCM of a number given by user"
   ]
  },
  {
   "cell_type": "code",
   "execution_count": null,
   "metadata": {},
   "outputs": [],
   "source": []
  }
 ],
 "metadata": {
  "interpreter": {
   "hash": "57f11aeb1dcaced031ce0a03bd916c082c2d8b27dffc26ca52ba74256b815c23"
  },
  "kernelspec": {
   "display_name": "Python 3.9.5 ('base')",
   "language": "python",
   "name": "python3"
  },
  "language_info": {
   "codemirror_mode": {
    "name": "ipython",
    "version": 3
   },
   "file_extension": ".py",
   "mimetype": "text/x-python",
   "name": "python",
   "nbconvert_exporter": "python",
   "pygments_lexer": "ipython3",
   "version": "3.9.5"
  },
  "orig_nbformat": 4
 },
 "nbformat": 4,
 "nbformat_minor": 2
}
