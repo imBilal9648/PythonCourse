{
 "cells": [
  {
   "cell_type": "code",
   "execution_count": 1,
   "metadata": {},
   "outputs": [
    {
     "name": "stdout",
     "output_type": "stream",
     "text": [
      "flipkart.com?page=1\n",
      "flipkart.com?page=2\n",
      "flipkart.com?page=3\n",
      "flipkart.com?page=4\n",
      "flipkart.com?page=5\n",
      "flipkart.com?page=6\n",
      "flipkart.com?page=7\n",
      "flipkart.com?page=8\n",
      "flipkart.com?page=9\n",
      "flipkart.com?page=10\n"
     ]
    }
   ],
   "source": [
    "for i in range(10):\n",
    "    print(f'flipkart.com?page={i+1}')"
   ]
  },
  {
   "cell_type": "code",
   "execution_count": 2,
   "metadata": {},
   "outputs": [
    {
     "name": "stdout",
     "output_type": "stream",
     "text": [
      "https://www.flipkart.com/search?q=bags&page=1\n"
     ]
    }
   ],
   "source": [
    "query = 'bags'\n",
    "page = 1\n",
    "url = f\"https://www.flipkart.com/search?q={query}&page={page}\"\n",
    "print(url)"
   ]
  },
  {
   "cell_type": "code",
   "execution_count": null,
   "metadata": {},
   "outputs": [],
   "source": []
  }
 ],
 "metadata": {
  "kernelspec": {
   "display_name": "Python 3.9.5 ('base')",
   "language": "python",
   "name": "python3"
  },
  "language_info": {
   "codemirror_mode": {
    "name": "ipython",
    "version": 3
   },
   "file_extension": ".py",
   "mimetype": "text/x-python",
   "name": "python",
   "nbconvert_exporter": "python",
   "pygments_lexer": "ipython3",
   "version": "3.9.5"
  },
  "orig_nbformat": 4,
  "vscode": {
   "interpreter": {
    "hash": "5f7df73bbd6ab3c5611b8eaa601f1ecb7ebd4fbc46d6ad44389389d741a84197"
   }
  }
 },
 "nbformat": 4,
 "nbformat_minor": 2
}
