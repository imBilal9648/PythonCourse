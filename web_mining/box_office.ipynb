{
 "cells": [
  {
   "cell_type": "code",
   "execution_count": 2,
   "metadata": {},
   "outputs": [],
   "source": [
    "import requests\n",
    "from bs4 import BeautifulSoup\n",
    "import pandas as pd"
   ]
  },
  {
   "cell_type": "code",
   "execution_count": 3,
   "metadata": {},
   "outputs": [
    {
     "name": "stdout",
     "output_type": "stream",
     "text": [
      "data is loaded\n"
     ]
    }
   ],
   "source": [
    "page = \"https://www.imdb.com/chart/boxoffice/\"\n",
    "response = requests.get(page)\n",
    "soup = BeautifulSoup(response.text, 'lxml')\n",
    "print('data is loaded')"
   ]
  },
  {
   "cell_type": "code",
   "execution_count": 4,
   "metadata": {},
   "outputs": [],
   "source": [
    "target = soup.find('table',attrs={'class':'chart'}).tbody"
   ]
  },
  {
   "cell_type": "code",
   "execution_count": 5,
   "metadata": {},
   "outputs": [
    {
     "data": {
      "text/plain": [
       "10"
      ]
     },
     "execution_count": 5,
     "metadata": {},
     "output_type": "execute_result"
    }
   ],
   "source": [
    "rows = target.find_all('tr')\n",
    "len(rows)"
   ]
  },
  {
   "cell_type": "code",
   "execution_count": 6,
   "metadata": {},
   "outputs": [],
   "source": [
    "movies = []\n",
    "for row in rows:\n",
    "    title = row.find('td',attrs={'class':'titleColumn'})\n",
    "    weekend = row.find('td',attrs={'class':'ratingColumn'})\n",
    "    gross = row.find_all('td',attrs={'class':'ratingColumn'})[-1]\n",
    "    week = row.find('td',attrs={'class':'weeksColumn'})\n",
    "    movies.append({\n",
    "        'title': title.text.strip(),\n",
    "        'weekend': weekend.text.strip(),\n",
    "        'gross': gross.text.strip(),\n",
    "        'week': week.text.strip(),\n",
    "    })\n",
    "data = pd.DataFrame(movies)\n",
    "data.to_csv('box_office.csv',index=False)    "
   ]
  },
  {
   "cell_type": "code",
   "execution_count": 7,
   "metadata": {},
   "outputs": [
    {
     "data": {
      "text/html": [
       "<div>\n",
       "<style scoped>\n",
       "    .dataframe tbody tr th:only-of-type {\n",
       "        vertical-align: middle;\n",
       "    }\n",
       "\n",
       "    .dataframe tbody tr th {\n",
       "        vertical-align: top;\n",
       "    }\n",
       "\n",
       "    .dataframe thead th {\n",
       "        text-align: right;\n",
       "    }\n",
       "</style>\n",
       "<table border=\"1\" class=\"dataframe\">\n",
       "  <thead>\n",
       "    <tr style=\"text-align: right;\">\n",
       "      <th></th>\n",
       "      <th>title</th>\n",
       "      <th>weekend</th>\n",
       "      <th>gross</th>\n",
       "      <th>week</th>\n",
       "    </tr>\n",
       "  </thead>\n",
       "  <tbody>\n",
       "    <tr>\n",
       "      <th>0</th>\n",
       "      <td>Thor: Love and Thunder</td>\n",
       "      <td>$144.2M</td>\n",
       "      <td>$144.2M</td>\n",
       "      <td>1</td>\n",
       "    </tr>\n",
       "    <tr>\n",
       "      <th>1</th>\n",
       "      <td>Minions: The Rise of Gru</td>\n",
       "      <td>$46.1M</td>\n",
       "      <td>$210.7M</td>\n",
       "      <td>2</td>\n",
       "    </tr>\n",
       "    <tr>\n",
       "      <th>2</th>\n",
       "      <td>Top Gun: Maverick</td>\n",
       "      <td>$15.5M</td>\n",
       "      <td>$597.4M</td>\n",
       "      <td>7</td>\n",
       "    </tr>\n",
       "    <tr>\n",
       "      <th>3</th>\n",
       "      <td>Elvis</td>\n",
       "      <td>$11.2M</td>\n",
       "      <td>$91.3M</td>\n",
       "      <td>3</td>\n",
       "    </tr>\n",
       "    <tr>\n",
       "      <th>4</th>\n",
       "      <td>Jurassic World Dominion</td>\n",
       "      <td>$8.6M</td>\n",
       "      <td>$350.5M</td>\n",
       "      <td>5</td>\n",
       "    </tr>\n",
       "    <tr>\n",
       "      <th>5</th>\n",
       "      <td>The Black Phone</td>\n",
       "      <td>$7.8M</td>\n",
       "      <td>$62.4M</td>\n",
       "      <td>3</td>\n",
       "    </tr>\n",
       "    <tr>\n",
       "      <th>6</th>\n",
       "      <td>Lightyear</td>\n",
       "      <td>$3.1M</td>\n",
       "      <td>$112.5M</td>\n",
       "      <td>4</td>\n",
       "    </tr>\n",
       "    <tr>\n",
       "      <th>7</th>\n",
       "      <td>Marcel the Shell with Shoes On</td>\n",
       "      <td>$322K</td>\n",
       "      <td>$946K</td>\n",
       "      <td>3</td>\n",
       "    </tr>\n",
       "    <tr>\n",
       "      <th>8</th>\n",
       "      <td>Mr. Malcolm's List</td>\n",
       "      <td>$255K</td>\n",
       "      <td>$1.6M</td>\n",
       "      <td>2</td>\n",
       "    </tr>\n",
       "    <tr>\n",
       "      <th>9</th>\n",
       "      <td>Doctor Strange in the Multiverse of Madness</td>\n",
       "      <td>$246K</td>\n",
       "      <td>$411.0M</td>\n",
       "      <td>10</td>\n",
       "    </tr>\n",
       "  </tbody>\n",
       "</table>\n",
       "</div>"
      ],
      "text/plain": [
       "                                         title  weekend    gross  week\n",
       "0                       Thor: Love and Thunder  $144.2M  $144.2M     1\n",
       "1                     Minions: The Rise of Gru   $46.1M  $210.7M     2\n",
       "2                            Top Gun: Maverick   $15.5M  $597.4M     7\n",
       "3                                        Elvis   $11.2M   $91.3M     3\n",
       "4                      Jurassic World Dominion    $8.6M  $350.5M     5\n",
       "5                              The Black Phone    $7.8M   $62.4M     3\n",
       "6                                    Lightyear    $3.1M  $112.5M     4\n",
       "7               Marcel the Shell with Shoes On    $322K    $946K     3\n",
       "8                           Mr. Malcolm's List    $255K    $1.6M     2\n",
       "9  Doctor Strange in the Multiverse of Madness    $246K  $411.0M    10"
      ]
     },
     "execution_count": 7,
     "metadata": {},
     "output_type": "execute_result"
    }
   ],
   "source": [
    "pd.read_csv('box_office.csv')"
   ]
  },
  {
   "cell_type": "code",
   "execution_count": null,
   "metadata": {},
   "outputs": [],
   "source": []
  }
 ],
 "metadata": {
  "interpreter": {
   "hash": "5f7df73bbd6ab3c5611b8eaa601f1ecb7ebd4fbc46d6ad44389389d741a84197"
  },
  "kernelspec": {
   "display_name": "Python 3.9.5 ('base')",
   "language": "python",
   "name": "python3"
  },
  "language_info": {
   "codemirror_mode": {
    "name": "ipython",
    "version": 3
   },
   "file_extension": ".py",
   "mimetype": "text/x-python",
   "name": "python",
   "nbconvert_exporter": "python",
   "pygments_lexer": "ipython3",
   "version": "3.9.5"
  },
  "orig_nbformat": 4
 },
 "nbformat": 4,
 "nbformat_minor": 2
}
