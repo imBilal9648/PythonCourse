{
 "cells": [
  {
   "cell_type": "code",
   "execution_count": 1,
   "metadata": {},
   "outputs": [],
   "source": [
    "import requests\n",
    "from bs4 import BeautifulSoup\n",
    "import pandas as pd"
   ]
  },
  {
   "cell_type": "code",
   "execution_count": 2,
   "metadata": {},
   "outputs": [
    {
     "name": "stdout",
     "output_type": "stream",
     "text": [
      "data is loaded\n"
     ]
    }
   ],
   "source": [
    "page = \"https://www.imdb.com/chart/boxoffice/\"\n",
    "response = requests.get(page)\n",
    "soup = BeautifulSoup(response.text, 'lxml')\n",
    "print('data is loaded')"
   ]
  },
  {
   "cell_type": "code",
   "execution_count": 3,
   "metadata": {},
   "outputs": [],
   "source": [
    "target = soup.find('table',attrs={'class':'chart'}).tbody"
   ]
  },
  {
   "cell_type": "code",
   "execution_count": 4,
   "metadata": {},
   "outputs": [
    {
     "data": {
      "text/plain": [
       "10"
      ]
     },
     "execution_count": 4,
     "metadata": {},
     "output_type": "execute_result"
    }
   ],
   "source": [
    "rows = target.find_all('tr')\n",
    "len(rows)"
   ]
  },
  {
   "cell_type": "code",
   "execution_count": 5,
   "metadata": {},
   "outputs": [],
   "source": [
    "movies = []\n",
    "for row in rows:\n",
    "    title = row.find('td',attrs={'class':'titleColumn'})\n",
    "    weekend = row.find('td',attrs={'class':'ratingColumn'})\n",
    "    gross = row.find_all('td',attrs={'class':'ratingColumn'})[-1]\n",
    "    week = row.find('td',attrs={'class':'weeksColumn'})\n",
    "    movies.append({\n",
    "        'title': title.text.strip(),\n",
    "        'weekend': weekend.text.strip(),\n",
    "        'gross': gross.text.strip(),\n",
    "        'week': week.text.strip(),\n",
    "    })\n",
    "data = pd.DataFrame(movies)\n",
    "data.to_csv('box_office.csv',index=False)    "
   ]
  },
  {
   "cell_type": "code",
   "execution_count": null,
   "metadata": {},
   "outputs": [],
   "source": []
  }
 ],
 "metadata": {
  "interpreter": {
   "hash": "5f7df73bbd6ab3c5611b8eaa601f1ecb7ebd4fbc46d6ad44389389d741a84197"
  },
  "kernelspec": {
   "display_name": "Python 3.9.5 ('base')",
   "language": "python",
   "name": "python3"
  },
  "language_info": {
   "codemirror_mode": {
    "name": "ipython",
    "version": 3
   },
   "file_extension": ".py",
   "mimetype": "text/x-python",
   "name": "python",
   "nbconvert_exporter": "python",
   "pygments_lexer": "ipython3",
   "version": "3.9.5"
  },
  "orig_nbformat": 4
 },
 "nbformat": 4,
 "nbformat_minor": 2
}
