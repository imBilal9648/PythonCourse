{
 "cells": [
  {
   "cell_type": "markdown",
   "metadata": {},
   "source": [
    "# dictionary\n",
    "- dictionary is ordered and unindexed\n",
    "- dictionary is a `key:value` pair system\n",
    "- the key are always unique for a dict \n",
    "- the keys are only of immutable type (number, string, tuple)\n",
    "- the values can be of any type\n",
    "- represented by` { }`\n",
    "- dictionary is mutable"
   ]
  },
  {
   "cell_type": "code",
   "execution_count": 1,
   "metadata": {},
   "outputs": [],
   "source": [
    "x = [ 'Alex', 'Mason',22,'374632642',True,False] # unexplain info\n",
    "std_mark_list = ['Ravi',90,'Kavi',30,'Janhvi',50,'Tanvi',20] # unlinkes info\n"
   ]
  },
  {
   "cell_type": "code",
   "execution_count": 2,
   "metadata": {},
   "outputs": [
    {
     "name": "stdout",
     "output_type": "stream",
     "text": [
      "{'firstname': 'Alex', 'lastname': 'Mason', 'age': 22, 'phone': '9097872312', 'working': True, 'married': False}\n"
     ]
    }
   ],
   "source": [
    "dict_x = {\n",
    "    'firstname':'Alex',\n",
    "    'lastname':'Mason',\n",
    "    'age':22,\n",
    "    'phone':'9097872312',\n",
    "    'working':True,\n",
    "    'married':False\n",
    "}\n",
    "print(dict_x)"
   ]
  },
  {
   "cell_type": "code",
   "execution_count": 3,
   "metadata": {},
   "outputs": [
    {
     "data": {
      "text/plain": [
       "{'Ravi': 90, 'Kavi': 30, 'Janhvi': 50, 'Tanvi': 20}"
      ]
     },
     "execution_count": 3,
     "metadata": {},
     "output_type": "execute_result"
    }
   ],
   "source": [
    "std_mark_dict = {'Ravi':90,'Kavi':30,'Janhvi':50,'Tanvi':20}\n",
    "std_mark_dict"
   ]
  },
  {
   "cell_type": "code",
   "execution_count": 3,
   "metadata": {},
   "outputs": [
    {
     "data": {
      "text/plain": [
       "'Alex'"
      ]
     },
     "execution_count": 3,
     "metadata": {},
     "output_type": "execute_result"
    }
   ],
   "source": [
    "dict_x['firstname']"
   ]
  },
  {
   "cell_type": "code",
   "execution_count": 18,
   "metadata": {},
   "outputs": [
    {
     "data": {
      "text/plain": [
       "{'tanya': {'eng': 60, 'maths': 90, 'science': 90},\n",
       " 'saif': {'eng': 80, 'maths': 96, 'science': 86},\n",
       " 'bilal': {'eng': 97, 'maths': 98, 'science': 94}}"
      ]
     },
     "execution_count": 18,
     "metadata": {},
     "output_type": "execute_result"
    }
   ],
   "source": [
    "report = {\n",
    "    'tanya':{\n",
    "        'eng':60,\n",
    "        'maths':90,\n",
    "        'science':90,\n",
    "    },\n",
    "    'saif':{\n",
    "        'eng':80,\n",
    "        'maths':96,\n",
    "        'science':86,\n",
    "    },\n",
    "    'bilal':{\n",
    "        'eng':97,\n",
    "        'maths':98,\n",
    "        'science':94\n",
    "    },\n",
    "}\n",
    "report"
   ]
  },
  {
   "cell_type": "code",
   "execution_count": 4,
   "metadata": {},
   "outputs": [
    {
     "data": {
      "text/plain": [
       "{'firstname': 'Alex',\n",
       " 'lastname': 'Mason',\n",
       " 'age': 22,\n",
       " 'phone': '9097872312',\n",
       " 'working': True,\n",
       " 'married': False}"
      ]
     },
     "execution_count": 4,
     "metadata": {},
     "output_type": "execute_result"
    }
   ],
   "source": [
    "dict_x"
   ]
  },
  {
   "cell_type": "markdown",
   "metadata": {},
   "source": [
    "#### adding data"
   ]
  },
  {
   "cell_type": "code",
   "execution_count": 5,
   "metadata": {},
   "outputs": [
    {
     "data": {
      "text/plain": [
       "{'firstname': 'Alex',\n",
       " 'lastname': 'Mason',\n",
       " 'age': 23,\n",
       " 'phone': '9097872312',\n",
       " 'working': True,\n",
       " 'married': False}"
      ]
     },
     "execution_count": 5,
     "metadata": {},
     "output_type": "execute_result"
    }
   ],
   "source": [
    "dict_x['age'] = 23 # update value for exising key\n",
    "dict_x"
   ]
  },
  {
   "cell_type": "markdown",
   "metadata": {},
   "source": [
    "#### removing data"
   ]
  },
  {
   "cell_type": "code",
   "execution_count": 6,
   "metadata": {},
   "outputs": [
    {
     "data": {
      "text/plain": [
       "{'firstname': 'Alex',\n",
       " 'lastname': 'Mason',\n",
       " 'age': 23,\n",
       " 'phone': '9097872312',\n",
       " 'working': True}"
      ]
     },
     "execution_count": 6,
     "metadata": {},
     "output_type": "execute_result"
    }
   ],
   "source": [
    "dict_x.pop('married')\n",
    "dict_x"
   ]
  },
  {
   "cell_type": "code",
   "execution_count": 7,
   "metadata": {},
   "outputs": [
    {
     "data": {
      "text/plain": [
       "('working', True)"
      ]
     },
     "execution_count": 7,
     "metadata": {},
     "output_type": "execute_result"
    }
   ],
   "source": [
    "dict_x.popitem() # remove last added items"
   ]
  },
  {
   "cell_type": "code",
   "execution_count": 8,
   "metadata": {},
   "outputs": [],
   "source": [
    "x = {'a':'apple','b':'ball','c':'cat'}\n",
    "y = {'d':'dog','e':'elephant','f':'fish'}"
   ]
  },
  {
   "cell_type": "code",
   "execution_count": 10,
   "metadata": {},
   "outputs": [
    {
     "name": "stdout",
     "output_type": "stream",
     "text": [
      "{'a': 'apple', 'b': 'ball', 'c': 'cat'}\n",
      "{'d': 'dog', 'e': 'elephant', 'f': 'fish'}\n"
     ]
    }
   ],
   "source": [
    "print(x)\n",
    "print(y)"
   ]
  },
  {
   "cell_type": "code",
   "execution_count": 11,
   "metadata": {},
   "outputs": [
    {
     "name": "stdout",
     "output_type": "stream",
     "text": [
      "{'a': 'apple', 'b': 'ball', 'c': 'cat', 'd': 'dog', 'e': 'elephant', 'f': 'fish'}\n"
     ]
    }
   ],
   "source": [
    "x.update(y)\n",
    "print(x)"
   ]
  },
  {
   "cell_type": "markdown",
   "metadata": {},
   "source": [
    "### list with dict"
   ]
  },
  {
   "cell_type": "code",
   "execution_count": 12,
   "metadata": {},
   "outputs": [
    {
     "name": "stdout",
     "output_type": "stream",
     "text": [
      "[{'a': 'apple', 'b': 'ball', 'c': 'cat'}, {'d': 'dog', 'e': 'elephant', 'f': 'fish'}, {'g': 'goat', 'h': 'horse', 'i': 'icecream'}]\n"
     ]
    }
   ],
   "source": [
    "x = {'a':'apple','b':'ball','c':'cat'}\n",
    "y = {'d':'dog','e':'elephant','f':'fish'}\n",
    "z = {'g':'goat','h':'horse','i':'icecream'}\n",
    "abc = [x,y,z]\n",
    "print(abc)"
   ]
  },
  {
   "cell_type": "code",
   "execution_count": 13,
   "metadata": {},
   "outputs": [
    {
     "data": {
      "text/plain": [
       "[{'name': 'Ravi', 'age': 22},\n",
       " {'name': 'Kavi', 'age': 30},\n",
       " {'name': 'Janhvi', 'age': 50},\n",
       " {'name': 'Tanvi', 'age': 20}]"
      ]
     },
     "execution_count": 13,
     "metadata": {},
     "output_type": "execute_result"
    }
   ],
   "source": [
    "data = [\n",
    "    {'name':'Ravi','age':22},\n",
    "    {'name':'Kavi','age':30},\n",
    "    {'name':'Janhvi','age':50},\n",
    "    {'name':'Tanvi','age':20}\n",
    "]\n",
    "data"
   ]
  },
  {
   "cell_type": "code",
   "execution_count": 14,
   "metadata": {},
   "outputs": [
    {
     "data": {
      "text/plain": [
       "'ball'"
      ]
     },
     "execution_count": 14,
     "metadata": {},
     "output_type": "execute_result"
    }
   ],
   "source": [
    "abc[0]['b']"
   ]
  },
  {
   "cell_type": "code",
   "execution_count": 15,
   "metadata": {},
   "outputs": [
    {
     "data": {
      "text/plain": [
       "20"
      ]
     },
     "execution_count": 15,
     "metadata": {},
     "output_type": "execute_result"
    }
   ],
   "source": [
    "data[-1]['age']"
   ]
  },
  {
   "cell_type": "code",
   "execution_count": 20,
   "metadata": {},
   "outputs": [
    {
     "data": {
      "text/plain": [
       "86"
      ]
     },
     "execution_count": 20,
     "metadata": {},
     "output_type": "execute_result"
    }
   ],
   "source": [
    "report['saif']['science']"
   ]
  },
  {
   "cell_type": "markdown",
   "metadata": {},
   "source": [
    "### Traversal or Looping"
   ]
  },
  {
   "cell_type": "code",
   "execution_count": 21,
   "metadata": {},
   "outputs": [
    {
     "data": {
      "text/plain": [
       "['firstname', 'lastname', 'age', 'phone']"
      ]
     },
     "execution_count": 21,
     "metadata": {},
     "output_type": "execute_result"
    }
   ],
   "source": [
    "list(dict_x.keys())"
   ]
  },
  {
   "cell_type": "code",
   "execution_count": 22,
   "metadata": {},
   "outputs": [
    {
     "data": {
      "text/plain": [
       "['Alex', 'Mason', 23, '9097872312']"
      ]
     },
     "execution_count": 22,
     "metadata": {},
     "output_type": "execute_result"
    }
   ],
   "source": [
    "list(dict_x.values())"
   ]
  },
  {
   "cell_type": "code",
   "execution_count": 23,
   "metadata": {},
   "outputs": [
    {
     "data": {
      "text/plain": [
       "[('firstname', 'Alex'),\n",
       " ('lastname', 'Mason'),\n",
       " ('age', 23),\n",
       " ('phone', '9097872312')]"
      ]
     },
     "execution_count": 23,
     "metadata": {},
     "output_type": "execute_result"
    }
   ],
   "source": [
    "list(dict_x.items())"
   ]
  },
  {
   "cell_type": "code",
   "execution_count": 24,
   "metadata": {},
   "outputs": [
    {
     "name": "stdout",
     "output_type": "stream",
     "text": [
      "firstname Alex\n",
      "lastname Mason\n",
      "age 23\n",
      "phone 9097872312\n"
     ]
    }
   ],
   "source": [
    "# most useful\n",
    "for k,v in dict_x.items():\n",
    "    print(k,v)"
   ]
  },
  {
   "cell_type": "code",
   "execution_count": 25,
   "metadata": {},
   "outputs": [
    {
     "name": "stdout",
     "output_type": "stream",
     "text": [
      "firstname Alex\n",
      "lastname Mason\n",
      "age 23\n",
      "phone 9097872312\n"
     ]
    }
   ],
   "source": [
    "for k in dict_x:\n",
    "    print(k, dict_x[k])"
   ]
  },
  {
   "cell_type": "markdown",
   "metadata": {},
   "source": [
    "### WAP to add details of 5 employees in a dict. The details are as follows\n",
    "\n",
    "- firstname\n",
    "- lastname\n",
    "- empid\n",
    "- desingnation\n",
    "- doj\n",
    "- basic_salary\n",
    "- department\n",
    "### then display their details after incrementing their salary by 9%"
   ]
  },
  {
   "cell_type": "code",
   "execution_count": 28,
   "metadata": {},
   "outputs": [],
   "source": [
    "dict_emp = {\n",
    "    '1st':{\n",
    "        'first_name':'Bilal',\n",
    "        'last_name':'Mirza',\n",
    "        'empid':9648,\n",
    "        'designation':'project manager',\n",
    "        'doj':'2nd august 2022',\n",
    "        'basic_salary':150000,\n",
    "        'department':'IT cell'\n",
    "    },\n",
    "    '2nd':{\n",
    "        'first_name':'Mohammad',\n",
    "        'last_name':'Saifuddin',\n",
    "        'empid':9649,\n",
    "        'designation':'project manager assistent',\n",
    "        'doj':'4th august 2022',\n",
    "        'basic_salary':75000,\n",
    "        'department':'IT cell'\n",
    "    },\n",
    "    '3rd':{\n",
    "        'first_name':'Ali',\n",
    "        'last_name':'Rehban',\n",
    "        'empid':9650,\n",
    "        'designation':'project emolyer',\n",
    "        'doj':'5th august 2022',\n",
    "        'basic_salary':50000,\n",
    "        'department':'IT cell'\n",
    "    },\n",
    "    '4th':{\n",
    "        'first_name':'Rahul',\n",
    "        'last_name':'Singh',\n",
    "        'empid':9651,\n",
    "        'designation':'sales manager',\n",
    "        'doj':'2nd august 2022',\n",
    "        'basic_salary':150000,\n",
    "        'department':'Sales'\n",
    "    },\n",
    "    '5th':{\n",
    "        'first_name':'Virat',\n",
    "        'last_name':'Verma',\n",
    "        'empid':9652,\n",
    "        'designation':'Sales manager assistent',\n",
    "        'doj':'4th august 2022',\n",
    "        'basic_salary':60000,\n",
    "        'department':'Sales'\n",
    "    }\n",
    "        \n",
    "    }\n",
    "if(dict_emp[])    "
   ]
  },
  {
   "cell_type": "code",
   "execution_count": 32,
   "metadata": {},
   "outputs": [
    {
     "data": {
      "text/plain": [
       "[('1st',\n",
       "  {'first_name': 'Bilal',\n",
       "   'last_name': 'Mirza',\n",
       "   'empid': 9648,\n",
       "   'designation': 'project manager',\n",
       "   'doj': '2nd august 2022',\n",
       "   'basic_salary': 150000,\n",
       "   'department': 'IT cell'}),\n",
       " ('2nd',\n",
       "  {'first_name': 'Mohammad',\n",
       "   'last_name': 'Saifuddin',\n",
       "   'empid': 9649,\n",
       "   'designation': 'project manager assistent',\n",
       "   'doj': '4th august 2022',\n",
       "   'basic_salary': 75000,\n",
       "   'department': 'IT cell'}),\n",
       " ('3rd',\n",
       "  {'first_name': 'Ali',\n",
       "   'last_name': 'Rehban',\n",
       "   'empid': 9650,\n",
       "   'designation': 'project emolyer',\n",
       "   'doj': '5th august 2022',\n",
       "   'basic_salary': 50000,\n",
       "   'department': 'IT cell'}),\n",
       " ('4th',\n",
       "  {'first_name': 'Rahul',\n",
       "   'last_name': 'Singh',\n",
       "   'empid': 9651,\n",
       "   'designation': 'sales manager',\n",
       "   'doj': '2nd august 2022',\n",
       "   'basic_salary': 150000,\n",
       "   'department': 'Sales'}),\n",
       " ('5th',\n",
       "  {'first_name': 'Virat',\n",
       "   'last_name': 'Verma',\n",
       "   'empid': 9652,\n",
       "   'designation': 'Sales manager assistent',\n",
       "   'doj': '4th august 2022',\n",
       "   'basic_salary': 60000,\n",
       "   'department': 'Sales'})]"
      ]
     },
     "execution_count": 32,
     "metadata": {},
     "output_type": "execute_result"
    }
   ],
   "source": [
    "list(dict_emp.items())"
   ]
  },
  {
   "cell_type": "code",
   "execution_count": 6,
   "metadata": {},
   "outputs": [
    {
     "name": "stdout",
     "output_type": "stream",
     "text": [
      "Created dictionary\n",
      "{1: 25, 2: 35, 3: 67}\n"
     ]
    }
   ],
   "source": [
    " M ={}\n",
    " n = int(input(\"how many students?\"))\n",
    " for a in range(n):\n",
    "     r,m=eval(input(\"Enter Roll No.,Marks:\"))\n",
    "     M[r]= m \n",
    "print(\"Created dictionary\")\n",
    "print(M)     "
   ]
  },
  {
   "cell_type": "code",
   "execution_count": 8,
   "metadata": {},
   "outputs": [
    {
     "name": "stdout",
     "output_type": "stream",
     "text": [
      "created dictionary\n",
      "{1: 45, 2: 78, 3: 56, 4: 89}\n"
     ]
    }
   ],
   "source": [
    "rno= []\n",
    "marks= []\n",
    "for a in range (4):\n",
    "    r,m= eval(input('enter roll no, enter marks'))\n",
    "    rno.append(r)\n",
    "    marks.append(m)\n",
    "d={rno[0]:marks[0], rno[1]:marks[1], rno[2]:marks[2], rno[3]:marks[3]}\n",
    "print(\"created dictionary\") \n",
    "print(d)   "
   ]
  },
  {
   "cell_type": "code",
   "execution_count": 10,
   "metadata": {},
   "outputs": [
    {
     "name": "stdout",
     "output_type": "stream",
     "text": [
      "innama : 8303096213\n",
      "modi : 123456789\n",
      "ram : 234157689\n"
     ]
    }
   ],
   "source": [
    "phoneDict= {\"innama\":8303096213, \"modi\":123456789, \"ram\":234157689}\n",
    "for name in phoneDict:\n",
    "    print (name, \":\", phoneDict[name])"
   ]
  },
  {
   "cell_type": "code",
   "execution_count": null,
   "metadata": {},
   "outputs": [],
   "source": []
  }
 ],
 "metadata": {
  "interpreter": {
   "hash": "57f11aeb1dcaced031ce0a03bd916c082c2d8b27dffc26ca52ba74256b815c23"
  },
  "kernelspec": {
   "display_name": "Python 3.9.5 ('base')",
   "language": "python",
   "name": "python3"
  },
  "language_info": {
   "codemirror_mode": {
    "name": "ipython",
    "version": 3
   },
   "file_extension": ".py",
   "mimetype": "text/x-python",
   "name": "python",
   "nbconvert_exporter": "python",
   "pygments_lexer": "ipython3",
   "version": "3.9.5"
  },
  "orig_nbformat": 4
 },
 "nbformat": 4,
 "nbformat_minor": 2
}
