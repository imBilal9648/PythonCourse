{
 "cells": [
  {
   "cell_type": "markdown",
   "metadata": {},
   "source": [
    "#### comprehension\n",
    "#### lambda,map,reduce"
   ]
  },
  {
   "cell_type": "code",
   "execution_count": 5,
   "metadata": {},
   "outputs": [
    {
     "name": "stdout",
     "output_type": "stream",
     "text": [
      "[11, 12, 13, 14, 15, 16, 17, 18, 19, 20]\n"
     ]
    }
   ],
   "source": [
    "# normal code\n",
    "x = [1,2,3,4,5,6,7,8,9,10]\n",
    "x10 = []\n",
    "for i in x:\n",
    "    out = i + 10\n",
    "    x10.append(out)\n",
    "print(x10)    "
   ]
  },
  {
   "cell_type": "markdown",
   "metadata": {},
   "source": [
    "comprehension syntax\n",
    "- simple\n",
    "```\n",
    "newlist = [opreation loop]\n",
    "```\n",
    "- conditional\n",
    "```\n",
    "newlist = [opertional loop condition]"
   ]
  },
  {
   "cell_type": "markdown",
   "metadata": {},
   "source": [
    "# Simple"
   ]
  },
  {
   "cell_type": "code",
   "execution_count": 6,
   "metadata": {},
   "outputs": [
    {
     "name": "stdout",
     "output_type": "stream",
     "text": [
      "[-9, -8, -7, -6, -5, -4, -3, -2, -1, 0]\n"
     ]
    }
   ],
   "source": [
    "# pythonic\n",
    "xinv10 = [i-10 for i in x]\n",
    "print(xinv10)"
   ]
  },
  {
   "cell_type": "code",
   "execution_count": 8,
   "metadata": {},
   "outputs": [
    {
     "name": "stdout",
     "output_type": "stream",
     "text": [
      "[1, 4, 9, 16, 25, 36, 49, 64, 81, 100]\n"
     ]
    }
   ],
   "source": [
    "# xsqr = [?]\n",
    "xsqr = [i*i for i in x]\n",
    "print(xsqr)"
   ]
  },
  {
   "cell_type": "code",
   "execution_count": 9,
   "metadata": {},
   "outputs": [
    {
     "name": "stdout",
     "output_type": "stream",
     "text": [
      "[1, 4, 9, 16, 25, 36, 49, 64, 81, 100]\n"
     ]
    }
   ],
   "source": [
    "# xsqr = [?]\n",
    "xsqr = [i**2 for i in x]\n",
    "print(xsqr)"
   ]
  },
  {
   "cell_type": "markdown",
   "metadata": {},
   "source": [
    "# Conditional"
   ]
  },
  {
   "cell_type": "code",
   "execution_count": 10,
   "metadata": {},
   "outputs": [
    {
     "name": "stdout",
     "output_type": "stream",
     "text": [
      "[4, 16, 36]\n"
     ]
    }
   ],
   "source": [
    "y = [1,2,3,4,5,6]\n",
    "ysqr_even = []\n",
    "for i in y:\n",
    "    if i % 2 == 0:\n",
    "        sqr = i ** 2\n",
    "        ysqr_even.append(sqr)\n",
    "print(ysqr_even)        "
   ]
  },
  {
   "cell_type": "code",
   "execution_count": 12,
   "metadata": {},
   "outputs": [
    {
     "name": "stdout",
     "output_type": "stream",
     "text": [
      "[1, 27, 125]\n"
     ]
    }
   ],
   "source": [
    "ycube_odd = [i ** 3 for i in y if i % 2 != 0]\n",
    "print(ycube_odd)"
   ]
  },
  {
   "cell_type": "code",
   "execution_count": 19,
   "metadata": {},
   "outputs": [
    {
     "name": "stdout",
     "output_type": "stream",
     "text": [
      "['stormblesses', 'Kholin', 'Dawar']\n"
     ]
    }
   ],
   "source": [
    "names = ['Kaladin stormblesses','Adolin Kholin','Shallan Dawar',]\n",
    "surname = []\n",
    "for name in names:\n",
    "    sn = name.split()[-1] # select last word\n",
    "    surname.append(sn)\n",
    "print(surname)"
   ]
  },
  {
   "cell_type": "code",
   "execution_count": 20,
   "metadata": {},
   "outputs": [
    {
     "name": "stdout",
     "output_type": "stream",
     "text": [
      "['stormblesses', 'Kholin', 'Dawar']\n"
     ]
    }
   ],
   "source": [
    "firstname = [name.split()[-1] for name in names]\n",
    "print(firstname)"
   ]
  },
  {
   "cell_type": "code",
   "execution_count": 3,
   "metadata": {},
   "outputs": [],
   "source": [
    "emps = ['Suraj','Ali','Mohan','Vijay','Sujay','Murtuja','Elina','Alex','Manju','Ajay']\n",
    "# emps that contain `n`` in their name`"
   ]
  },
  {
   "cell_type": "code",
   "execution_count": 4,
   "metadata": {},
   "outputs": [
    {
     "name": "stdout",
     "output_type": "stream",
     "text": [
      "['Mohan', 'Elina', 'Manju']\n"
     ]
    }
   ],
   "source": [
    "emps_n =[]\n",
    "for name in emps:\n",
    "    if 'n' in name:\n",
    "        emps_n.append(name)\n",
    "print(emps_n)        "
   ]
  },
  {
   "cell_type": "code",
   "execution_count": 5,
   "metadata": {},
   "outputs": [
    {
     "name": "stdout",
     "output_type": "stream",
     "text": [
      "['Mohan', 'Elina', 'Manju']\n"
     ]
    }
   ],
   "source": [
    "emps_u = [name for name in emps if 'n' in name]\n",
    "print(emps_u)"
   ]
  },
  {
   "cell_type": "code",
   "execution_count": 30,
   "metadata": {},
   "outputs": [],
   "source": [
    "x = [1,2,3,4,5,6,]\n",
    "y = [2,3,5,1,2,5]\n",
    "# add x and y elements and put in z"
   ]
  },
  {
   "cell_type": "code",
   "execution_count": 31,
   "metadata": {},
   "outputs": [
    {
     "name": "stdout",
     "output_type": "stream",
     "text": [
      "[3, 5, 8, 5, 7, 11]\n"
     ]
    }
   ],
   "source": [
    "z = []\n",
    "for i in range(6):\n",
    "    sum = x[i] + y[i]\n",
    "    z.append(sum)\n",
    "print(z)    \n"
   ]
  },
  {
   "cell_type": "markdown",
   "metadata": {},
   "source": [
    "# Zip function"
   ]
  },
  {
   "cell_type": "code",
   "execution_count": 32,
   "metadata": {},
   "outputs": [
    {
     "name": "stdout",
     "output_type": "stream",
     "text": [
      "[3, 5, 8, 5, 7, 11, 3, 5, 8, 5, 7, 11]\n"
     ]
    }
   ],
   "source": [
    "for i,j in zip(x,y):\n",
    "    z.append(i+j)\n",
    "print(z)    \n"
   ]
  },
  {
   "cell_type": "code",
   "execution_count": 35,
   "metadata": {},
   "outputs": [
    {
     "name": "stdout",
     "output_type": "stream",
     "text": [
      "[3, 5, 8, 5, 7, 11]\n"
     ]
    }
   ],
   "source": [
    "z1 = [i+j for i,j in zip(x,y)]\n",
    "print(z1)"
   ]
  },
  {
   "cell_type": "code",
   "execution_count": 1,
   "metadata": {},
   "outputs": [
    {
     "name": "stdout",
     "output_type": "stream",
     "text": [
      "Rohan has iq of 70 in the age of 18\n",
      "Mohan has iq of 75 in the age of 19\n",
      "Sohan has iq of 56 in the age of 32\n"
     ]
    }
   ],
   "source": [
    "people = ['Rohan','Mohan','Sohan']\n",
    "iq = [70,75,56]\n",
    "age = [18,19,32]\n",
    "for p,i,a in zip(people,iq,age):\n",
    "    print(f'{p} has iq of {i} in the age of {a}')"
   ]
  },
  {
   "cell_type": "code",
   "execution_count": 2,
   "metadata": {},
   "outputs": [
    {
     "name": "stdout",
     "output_type": "stream",
     "text": [
      "Rohan has iq of 70 in the age of 18\n",
      "Mohan has iq of 75 in the age of 19\n"
     ]
    }
   ],
   "source": [
    "people = ['Rohan','Mohan',]\n",
    "iq = [70,75,56]\n",
    "age = [18,19,32]\n",
    "for p,i,a in zip(people,iq,age):\n",
    "    print(f'{p} has iq of {i} in the age of {a}')"
   ]
  },
  {
   "cell_type": "code",
   "execution_count": null,
   "metadata": {},
   "outputs": [],
   "source": []
  }
 ],
 "metadata": {
  "interpreter": {
   "hash": "57f11aeb1dcaced031ce0a03bd916c082c2d8b27dffc26ca52ba74256b815c23"
  },
  "kernelspec": {
   "display_name": "Python 3.9.5 ('base')",
   "language": "python",
   "name": "python3"
  },
  "language_info": {
   "codemirror_mode": {
    "name": "ipython",
    "version": 3
   },
   "file_extension": ".py",
   "mimetype": "text/x-python",
   "name": "python",
   "nbconvert_exporter": "python",
   "pygments_lexer": "ipython3",
   "version": "3.9.5"
  },
  "orig_nbformat": 4
 },
 "nbformat": 4,
 "nbformat_minor": 2
}
