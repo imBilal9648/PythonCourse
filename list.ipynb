{
 "cells": [
  {
   "cell_type": "markdown",
   "metadata": {},
   "source": [
    "# List\n",
    "1. List can hold multiple values\n",
    "2. List is mutable (add, remove item)\n",
    "3. List is indexed (indexing and slicing)\n",
    "4. List can have duplicate item\n",
    "5. List is represented by [] with comma seperated values\n",
    "6. List can have mixed values inside it \n",
    "7. List can be nested inside list "
   ]
  },
  {
   "cell_type": "markdown",
   "metadata": {},
   "source": [
    "# What u will learn\n",
    "1. Creating\n",
    "2. indexing and slicing\n",
    "3. function(11)\n",
    "4. comprehension\n",
    "5. lambda,map,reduce"
   ]
  },
  {
   "cell_type": "code",
   "execution_count": 1,
   "metadata": {},
   "outputs": [],
   "source": [
    "# list of string\n",
    "shards = ['honour','cultivation','odium','ruin']\n",
    "\n",
    "# list of numbers\n",
    "primes = [2,3,5,7,11,13,17]\n",
    "\n",
    "# mixed content\n",
    "info = ['Raju', 'Singh', 90, 89, 89, 90, \"A\", True, 89.5, \"Perfect\" ] "
   ]
  },
  {
   "cell_type": "code",
   "execution_count": 2,
   "metadata": {},
   "outputs": [],
   "source": [
    "# nested list\n",
    "x2 = [[1,2,3], [1,2,3,4], [2,3]]\n",
    "\n",
    "filter = [True,False,True,True,False]"
   ]
  },
  {
   "cell_type": "code",
   "execution_count": 4,
   "metadata": {},
   "outputs": [],
   "source": [
    "games = [] # empty list"
   ]
  },
  {
   "cell_type": "code",
   "execution_count": 6,
   "metadata": {},
   "outputs": [],
   "source": [
    "# function that generate list\n",
    "fact = \"ice cubes sits in its own blood\"\n",
    "words = fact.split()"
   ]
  },
  {
   "cell_type": "code",
   "execution_count": 7,
   "metadata": {},
   "outputs": [
    {
     "data": {
      "text/plain": [
       "[1, 2, 3, 1, 2, 3, 1, 2, 3, 1, 2, 3, 1, 2, 3]"
      ]
     },
     "execution_count": 7,
     "metadata": {},
     "output_type": "execute_result"
    }
   ],
   "source": [
    "# quick hack for generating list of duplicating values\n",
    "\n",
    "ones = [1,2,3] * 5\n",
    "ones"
   ]
  },
  {
   "cell_type": "code",
   "execution_count": 9,
   "metadata": {},
   "outputs": [
    {
     "data": {
      "text/plain": [
       "[10, 'cup', 20, 'dog']"
      ]
     },
     "execution_count": 9,
     "metadata": {},
     "output_type": "execute_result"
    }
   ],
   "source": [
    "# list from existing variables \n",
    "a = 10\n",
    "b = 20\n",
    "c = 'cup'\n",
    "d = \"dog\"\n",
    "items = [a, c, b, d]\n",
    "items"
   ]
  },
  {
   "cell_type": "code",
   "execution_count": 12,
   "metadata": {},
   "outputs": [
    {
     "data": {
      "text/plain": [
       "['God of War', 'God of War', 'God of War']"
      ]
     },
     "execution_count": 12,
     "metadata": {},
     "output_type": "execute_result"
    }
   ],
   "source": [
    "games.append(\"God of War\")\n",
    "games"
   ]
  },
  {
   "cell_type": "code",
   "execution_count": 13,
   "metadata": {},
   "outputs": [],
   "source": [
    "games.append(\"Assasins Creed\")\n",
    "games.append(\"Gears 5\")\n",
    "games.append(\"Valorant\")\n",
    "games.append(\"GTA V\")"
   ]
  },
  {
   "cell_type": "code",
   "execution_count": 14,
   "metadata": {},
   "outputs": [
    {
     "name": "stdout",
     "output_type": "stream",
     "text": [
      "['God of War', 'God of War', 'God of War', 'Assasins Creed', 'Gears 5', 'Valorant', 'GTA V']\n"
     ]
    }
   ],
   "source": [
    "print(games)"
   ]
  },
  {
   "cell_type": "code",
   "execution_count": 16,
   "metadata": {},
   "outputs": [
    {
     "name": "stdout",
     "output_type": "stream",
     "text": [
      "['maggi', 'butter chicken', 'pizza']\n"
     ]
    }
   ],
   "source": [
    "fav_food = []\n",
    "for i in range(3):\n",
    "    food = input(\"Enter ur fav food=>\")\n",
    "    fav_food.append(food)\n",
    "print(fav_food)    "
   ]
  },
  {
   "cell_type": "markdown",
   "metadata": {},
   "source": [
    "# indexing slicing and value modification "
   ]
  },
  {
   "cell_type": "code",
   "execution_count": 17,
   "metadata": {},
   "outputs": [
    {
     "data": {
      "text/plain": [
       "['honour', 'cultivation', 'odium', 'ruin']"
      ]
     },
     "execution_count": 17,
     "metadata": {},
     "output_type": "execute_result"
    }
   ],
   "source": [
    "shards"
   ]
  },
  {
   "cell_type": "code",
   "execution_count": 18,
   "metadata": {},
   "outputs": [
    {
     "data": {
      "text/plain": [
       "'honour'"
      ]
     },
     "execution_count": 18,
     "metadata": {},
     "output_type": "execute_result"
    }
   ],
   "source": [
    "shards[0]"
   ]
  },
  {
   "cell_type": "code",
   "execution_count": 19,
   "metadata": {},
   "outputs": [
    {
     "data": {
      "text/plain": [
       "'ruin'"
      ]
     },
     "execution_count": 19,
     "metadata": {},
     "output_type": "execute_result"
    }
   ],
   "source": [
    "shards[-1]"
   ]
  },
  {
   "cell_type": "code",
   "execution_count": 20,
   "metadata": {},
   "outputs": [
    {
     "data": {
      "text/plain": [
       "'odium'"
      ]
     },
     "execution_count": 20,
     "metadata": {},
     "output_type": "execute_result"
    }
   ],
   "source": [
    "shards[2]"
   ]
  },
  {
   "cell_type": "code",
   "execution_count": 21,
   "metadata": {},
   "outputs": [],
   "source": [
    "shards[3] =\"harmony\" # mutable"
   ]
  },
  {
   "cell_type": "code",
   "execution_count": 22,
   "metadata": {},
   "outputs": [
    {
     "data": {
      "text/plain": [
       "['honour', 'cultivation', 'odium', 'harmony']"
      ]
     },
     "execution_count": 22,
     "metadata": {},
     "output_type": "execute_result"
    }
   ],
   "source": [
    "shards"
   ]
  },
  {
   "cell_type": "code",
   "execution_count": 23,
   "metadata": {},
   "outputs": [],
   "source": [
    "shards.append(\"autonomy\")\n",
    "shards.append(\"dowinion\")\n",
    "shards.append(\"devotion\")\n",
    "shards.append(\"colo\")\n",
    "shards.append(\"happy\")"
   ]
  },
  {
   "cell_type": "code",
   "execution_count": 24,
   "metadata": {},
   "outputs": [
    {
     "name": "stdout",
     "output_type": "stream",
     "text": [
      "['honour', 'cultivation', 'odium', 'harmony', 'autonomy', 'dowinion', 'devotion', 'colo', 'happy']\n"
     ]
    }
   ],
   "source": [
    "print(shards)"
   ]
  },
  {
   "cell_type": "code",
   "execution_count": 25,
   "metadata": {},
   "outputs": [
    {
     "data": {
      "text/plain": [
       "['honour', 'cultivation', 'odium', 'harmony', 'autonomy']"
      ]
     },
     "execution_count": 25,
     "metadata": {},
     "output_type": "execute_result"
    }
   ],
   "source": [
    "shards[:5] # first 5"
   ]
  },
  {
   "cell_type": "code",
   "execution_count": 26,
   "metadata": {},
   "outputs": [
    {
     "data": {
      "text/plain": [
       "'devotion'"
      ]
     },
     "execution_count": 26,
     "metadata": {},
     "output_type": "execute_result"
    }
   ],
   "source": [
    "shards[-3] # last 3"
   ]
  },
  {
   "cell_type": "code",
   "execution_count": 27,
   "metadata": {},
   "outputs": [
    {
     "data": {
      "text/plain": [
       "['harmony', 'autonomy', 'dowinion', 'devotion', 'colo']"
      ]
     },
     "execution_count": 27,
     "metadata": {},
     "output_type": "execute_result"
    }
   ],
   "source": [
    "shards[3:8] # from 3rd index to 7th index"
   ]
  },
  {
   "cell_type": "code",
   "execution_count": 28,
   "metadata": {},
   "outputs": [
    {
     "data": {
      "text/plain": [
       "['honour', 'odium', 'autonomy', 'devotion', 'happy']"
      ]
     },
     "execution_count": 28,
     "metadata": {},
     "output_type": "execute_result"
    }
   ],
   "source": [
    "shards[::2] # starting to end > every 2 item or all the even indexes"
   ]
  },
  {
   "cell_type": "code",
   "execution_count": 29,
   "metadata": {},
   "outputs": [
    {
     "data": {
      "text/plain": [
       "['cultivation', 'harmony', 'dowinion', 'colo']"
      ]
     },
     "execution_count": 29,
     "metadata": {},
     "output_type": "execute_result"
    }
   ],
   "source": [
    "shards[1::2] # all the odds index"
   ]
  },
  {
   "cell_type": "code",
   "execution_count": 31,
   "metadata": {},
   "outputs": [
    {
     "name": "stdout",
     "output_type": "stream",
     "text": [
      "['happy', 'colo', 'devotion', 'dowinion', 'autonomy', 'harmony', 'odium', 'cultivation', 'honour']\n"
     ]
    }
   ],
   "source": [
    "print(shards[::-1]) # reverse"
   ]
  },
  {
   "cell_type": "markdown",
   "metadata": {},
   "source": [
    "# Functions\n",
    "- (list have 11 function)\n",
    "- adding items - append() - insert() -extend()\n",
    "- deleting items - remove() - pop() -clear()\n",
    "- utility items - reverse() - sort() - copy() - count() - index()\n"
   ]
  },
  {
   "cell_type": "code",
   "execution_count": 3,
   "metadata": {},
   "outputs": [
    {
     "data": {
      "text/plain": [
       "['apple', 'cherry', 'fig', 'guava']"
      ]
     },
     "execution_count": 3,
     "metadata": {},
     "output_type": "execute_result"
    }
   ],
   "source": [
    "fruits = [] # empty list\n",
    "fruits.append(\"apple\")\n",
    "fruits.append(\"cherry\")\n",
    "fruits.append(\"fig\")\n",
    "fruits.append(\"guava\")\n",
    "fruits"
   ]
  },
  {
   "cell_type": "code",
   "execution_count": 4,
   "metadata": {},
   "outputs": [
    {
     "data": {
      "text/plain": [
       "['apple', 'banana', 'cherry', 'fig', 'guava']"
      ]
     },
     "execution_count": 4,
     "metadata": {},
     "output_type": "execute_result"
    }
   ],
   "source": [
    "fruits.insert(1, \"banana\")\n",
    "fruits"
   ]
  },
  {
   "cell_type": "code",
   "execution_count": 8,
   "metadata": {},
   "outputs": [
    {
     "data": {
      "text/plain": [
       "['apple',\n",
       " 'avocado',\n",
       " 'banana',\n",
       " 'dragon fruit',\n",
       " 'dragon fruit',\n",
       " 'dragon fruit',\n",
       " 'cherry',\n",
       " 'fig',\n",
       " 'guava']"
      ]
     },
     "execution_count": 8,
     "metadata": {},
     "output_type": "execute_result"
    }
   ],
   "source": [
    "fruits.insert(3,\"dragon fruit\")\n",
    "fruits"
   ]
  },
  {
   "cell_type": "code",
   "execution_count": 9,
   "metadata": {},
   "outputs": [
    {
     "data": {
      "text/plain": [
       "['apple',\n",
       " 'avocado',\n",
       " 'avocado',\n",
       " 'banana',\n",
       " 'dragon fruit',\n",
       " 'dragon fruit',\n",
       " 'dragon fruit',\n",
       " 'cherry',\n",
       " 'fig',\n",
       " 'guava']"
      ]
     },
     "execution_count": 9,
     "metadata": {},
     "output_type": "execute_result"
    }
   ],
   "source": [
    "fruits.insert(1,\"avocado\")\n",
    "fruits"
   ]
  },
  {
   "cell_type": "code",
   "execution_count": 10,
   "metadata": {},
   "outputs": [],
   "source": [
    "dry_fruits = {\"almond\",\"cashew\",\"walnut\"}"
   ]
  },
  {
   "cell_type": "code",
   "execution_count": 11,
   "metadata": {},
   "outputs": [
    {
     "data": {
      "text/plain": [
       "['apple',\n",
       " 'avocado',\n",
       " 'avocado',\n",
       " 'banana',\n",
       " 'dragon fruit',\n",
       " 'dragon fruit',\n",
       " 'dragon fruit',\n",
       " 'cherry',\n",
       " 'fig',\n",
       " 'guava',\n",
       " 'walnut',\n",
       " 'cashew',\n",
       " 'almond']"
      ]
     },
     "execution_count": 11,
     "metadata": {},
     "output_type": "execute_result"
    }
   ],
   "source": [
    "fruits.extend(dry_fruits)\n",
    "fruits"
   ]
  },
  {
   "cell_type": "code",
   "execution_count": 12,
   "metadata": {},
   "outputs": [
    {
     "data": {
      "text/plain": [
       "True"
      ]
     },
     "execution_count": 12,
     "metadata": {},
     "output_type": "execute_result"
    }
   ],
   "source": [
    "\"fig\" in fruits"
   ]
  },
  {
   "cell_type": "code",
   "execution_count": 13,
   "metadata": {},
   "outputs": [
    {
     "data": {
      "text/plain": [
       "['apple',\n",
       " 'avocado',\n",
       " 'avocado',\n",
       " 'banana',\n",
       " 'dragon fruit',\n",
       " 'dragon fruit',\n",
       " 'dragon fruit',\n",
       " 'cherry',\n",
       " 'fig',\n",
       " 'guava',\n",
       " 'walnut',\n",
       " 'almond']"
      ]
     },
     "execution_count": 13,
     "metadata": {},
     "output_type": "execute_result"
    }
   ],
   "source": [
    "fruits.remove('cashew') if \"cashew\" in fruits else \"not found\"\n",
    "fruits"
   ]
  },
  {
   "cell_type": "markdown",
   "metadata": {},
   "source": [
    "# never create variable called sum"
   ]
  },
  {
   "cell_type": "code",
   "execution_count": 15,
   "metadata": {},
   "outputs": [
    {
     "name": "stdout",
     "output_type": "stream",
     "text": [
      "no fig found\n"
     ]
    }
   ],
   "source": [
    "if \"fig\" in fruits:\n",
    "    fruits.remove(\"fig\")\n",
    "else:\n",
    "    print(\"no fig found\")    "
   ]
  },
  {
   "cell_type": "code",
   "execution_count": 16,
   "metadata": {},
   "outputs": [
    {
     "data": {
      "text/plain": [
       "['apple',\n",
       " 'avocado',\n",
       " 'avocado',\n",
       " 'banana',\n",
       " 'dragon fruit',\n",
       " 'dragon fruit',\n",
       " 'dragon fruit',\n",
       " 'cherry',\n",
       " 'guava',\n",
       " 'walnut',\n",
       " 'almond']"
      ]
     },
     "execution_count": 16,
     "metadata": {},
     "output_type": "execute_result"
    }
   ],
   "source": [
    "fruits"
   ]
  },
  {
   "cell_type": "markdown",
   "metadata": {},
   "source": [
    "# pop work in two ways\n",
    "- list.pop(idx) => remove the item from given index,and return the removed value\n",
    "- list.pop() => remove the item from bottom and return the value remove"
   ]
  },
  {
   "cell_type": "code",
   "execution_count": 17,
   "metadata": {},
   "outputs": [
    {
     "data": {
      "text/plain": [
       "'banana'"
      ]
     },
     "execution_count": 17,
     "metadata": {},
     "output_type": "execute_result"
    }
   ],
   "source": [
    "fruits.pop(3)"
   ]
  },
  {
   "cell_type": "code",
   "execution_count": 18,
   "metadata": {},
   "outputs": [
    {
     "data": {
      "text/plain": [
       "'almond'"
      ]
     },
     "execution_count": 18,
     "metadata": {},
     "output_type": "execute_result"
    }
   ],
   "source": [
    "fruits.pop() # list item will be remove"
   ]
  },
  {
   "cell_type": "code",
   "execution_count": 20,
   "metadata": {},
   "outputs": [
    {
     "data": {
      "text/plain": [
       "['apple',\n",
       " 'avocado',\n",
       " 'avocado',\n",
       " 'dragon fruit',\n",
       " 'dragon fruit',\n",
       " 'dragon fruit',\n",
       " 'cherry',\n",
       " 'guava',\n",
       " 'walnut']"
      ]
     },
     "execution_count": 20,
     "metadata": {},
     "output_type": "execute_result"
    }
   ],
   "source": [
    "fruits"
   ]
  },
  {
   "cell_type": "code",
   "execution_count": 21,
   "metadata": {},
   "outputs": [
    {
     "data": {
      "text/plain": [
       "'walnut'"
      ]
     },
     "execution_count": 21,
     "metadata": {},
     "output_type": "execute_result"
    }
   ],
   "source": [
    "fruits.pop()"
   ]
  },
  {
   "cell_type": "code",
   "execution_count": 22,
   "metadata": {},
   "outputs": [
    {
     "data": {
      "text/plain": [
       "['apple',\n",
       " 'avocado',\n",
       " 'avocado',\n",
       " 'dragon fruit',\n",
       " 'dragon fruit',\n",
       " 'dragon fruit',\n",
       " 'cherry',\n",
       " 'guava']"
      ]
     },
     "execution_count": 22,
     "metadata": {},
     "output_type": "execute_result"
    }
   ],
   "source": [
    "fruits"
   ]
  },
  {
   "cell_type": "code",
   "execution_count": 23,
   "metadata": {},
   "outputs": [
    {
     "data": {
      "text/plain": [
       "[]"
      ]
     },
     "execution_count": 23,
     "metadata": {},
     "output_type": "execute_result"
    }
   ],
   "source": [
    "fruits.clear()\n",
    "fruits"
   ]
  },
  {
   "cell_type": "code",
   "execution_count": 24,
   "metadata": {},
   "outputs": [],
   "source": [
    "movies = [\"pushpa: the rise\",\"atrangi re\",\"suryavanshi\",\"boss baby\",\"spiderman: no way home\",\"venom: let there be carnage\"]"
   ]
  },
  {
   "cell_type": "code",
   "execution_count": 25,
   "metadata": {},
   "outputs": [
    {
     "data": {
      "text/plain": [
       "['venom: let there be carnage',\n",
       " 'spiderman: no way home',\n",
       " 'boss baby',\n",
       " 'suryavanshi',\n",
       " 'atrangi re',\n",
       " 'pushpa: the rise']"
      ]
     },
     "execution_count": 25,
     "metadata": {},
     "output_type": "execute_result"
    }
   ],
   "source": [
    "movies.reverse()\n",
    "movies"
   ]
  },
  {
   "cell_type": "code",
   "execution_count": 26,
   "metadata": {},
   "outputs": [
    {
     "data": {
      "text/plain": [
       "['atrangi re',\n",
       " 'boss baby',\n",
       " 'pushpa: the rise',\n",
       " 'spiderman: no way home',\n",
       " 'suryavanshi',\n",
       " 'venom: let there be carnage']"
      ]
     },
     "execution_count": 26,
     "metadata": {},
     "output_type": "execute_result"
    }
   ],
   "source": [
    "movies.sort()\n",
    "movies"
   ]
  },
  {
   "cell_type": "code",
   "execution_count": 27,
   "metadata": {},
   "outputs": [
    {
     "data": {
      "text/plain": [
       "['venom: let there be carnage',\n",
       " 'suryavanshi',\n",
       " 'spiderman: no way home',\n",
       " 'pushpa: the rise',\n",
       " 'boss baby',\n",
       " 'atrangi re']"
      ]
     },
     "execution_count": 27,
     "metadata": {},
     "output_type": "execute_result"
    }
   ],
   "source": [
    "movies.sort( reverse = True)\n",
    "movies"
   ]
  },
  {
   "cell_type": "code",
   "execution_count": 28,
   "metadata": {},
   "outputs": [
    {
     "data": {
      "text/plain": [
       "['atrangi re',\n",
       " 'boss baby',\n",
       " 'pushpa: the rise',\n",
       " 'spiderman: no way home',\n",
       " 'suryavanshi',\n",
       " 'venom: let there be carnage']"
      ]
     },
     "execution_count": 28,
     "metadata": {},
     "output_type": "execute_result"
    }
   ],
   "source": [
    "sorted(movies)"
   ]
  },
  {
   "cell_type": "code",
   "execution_count": 29,
   "metadata": {},
   "outputs": [],
   "source": [
    "movies_temp = movies.copy() # duplicate item or backup"
   ]
  },
  {
   "cell_type": "code",
   "execution_count": 30,
   "metadata": {},
   "outputs": [
    {
     "data": {
      "text/plain": [
       "['venom: let there be carnage',\n",
       " 'suryavanshi',\n",
       " 'spiderman: no way home',\n",
       " 'pushpa: the rise',\n",
       " 'boss baby',\n",
       " 'atrangi re']"
      ]
     },
     "execution_count": 30,
     "metadata": {},
     "output_type": "execute_result"
    }
   ],
   "source": [
    "movies_temp"
   ]
  },
  {
   "cell_type": "code",
   "execution_count": 31,
   "metadata": {},
   "outputs": [],
   "source": [
    "x = [1,1,1,2,3,4,2,1,4,3,2,1,1,2,3,4,5]"
   ]
  },
  {
   "cell_type": "code",
   "execution_count": 32,
   "metadata": {},
   "outputs": [
    {
     "data": {
      "text/plain": [
       "4"
      ]
     },
     "execution_count": 32,
     "metadata": {},
     "output_type": "execute_result"
    }
   ],
   "source": [
    "x.count(2)"
   ]
  },
  {
   "cell_type": "code",
   "execution_count": 33,
   "metadata": {},
   "outputs": [
    {
     "data": {
      "text/plain": [
       "6"
      ]
     },
     "execution_count": 33,
     "metadata": {},
     "output_type": "execute_result"
    }
   ],
   "source": [
    "x.count(1)"
   ]
  },
  {
   "cell_type": "code",
   "execution_count": 34,
   "metadata": {},
   "outputs": [
    {
     "data": {
      "text/plain": [
       "0"
      ]
     },
     "execution_count": 34,
     "metadata": {},
     "output_type": "execute_result"
    }
   ],
   "source": [
    "x.count(8)"
   ]
  },
  {
   "cell_type": "code",
   "execution_count": 35,
   "metadata": {},
   "outputs": [
    {
     "data": {
      "text/plain": [
       "['venom: let there be carnage',\n",
       " 'suryavanshi',\n",
       " 'spiderman: no way home',\n",
       " 'pushpa: the rise',\n",
       " 'boss baby',\n",
       " 'atrangi re']"
      ]
     },
     "execution_count": 35,
     "metadata": {},
     "output_type": "execute_result"
    }
   ],
   "source": [
    "movies"
   ]
  },
  {
   "cell_type": "code",
   "execution_count": 36,
   "metadata": {},
   "outputs": [
    {
     "data": {
      "text/plain": [
       "4"
      ]
     },
     "execution_count": 36,
     "metadata": {},
     "output_type": "execute_result"
    }
   ],
   "source": [
    "movies.index(\"boss baby\")"
   ]
  },
  {
   "cell_type": "code",
   "execution_count": 37,
   "metadata": {},
   "outputs": [
    {
     "data": {
      "text/plain": [
       "5"
      ]
     },
     "execution_count": 37,
     "metadata": {},
     "output_type": "execute_result"
    }
   ],
   "source": [
    "movies.index(\"atrangi re\")"
   ]
  },
  {
   "cell_type": "markdown",
   "metadata": {},
   "source": [
    "# wap to add 10 numbers in a list from user input and then display sum,mean,max,min from the list"
   ]
  },
  {
   "cell_type": "code",
   "execution_count": 5,
   "metadata": {},
   "outputs": [
    {
     "name": "stdout",
     "output_type": "stream",
     "text": [
      "sum of number=> 45\n",
      "mean of numbers=> 4.5\n",
      "max value=> 9\n",
      "min value=> 0\n"
     ]
    }
   ],
   "source": [
    "numbers = []\n",
    "for i in range(10):\n",
    "    val = int(input(f\"enter number {i+1}\"))\n",
    "    numbers.append(val)\n",
    "print(\"sum of number=>\",sum(numbers))\n",
    "print(\"mean of numbers=>\",sum(numbers)/len(numbers))\n",
    "print(\"max value=>\",max(numbers))\n",
    "print(\"min value=>\", min(numbers))    \n"
   ]
  },
  {
   "cell_type": "code",
   "execution_count": null,
   "metadata": {},
   "outputs": [],
   "source": []
  }
 ],
 "metadata": {
  "interpreter": {
   "hash": "57f11aeb1dcaced031ce0a03bd916c082c2d8b27dffc26ca52ba74256b815c23"
  },
  "kernelspec": {
   "display_name": "Python 3.9.5 ('base')",
   "language": "python",
   "name": "python3"
  },
  "language_info": {
   "codemirror_mode": {
    "name": "ipython",
    "version": 3
   },
   "file_extension": ".py",
   "mimetype": "text/x-python",
   "name": "python",
   "nbconvert_exporter": "python",
   "pygments_lexer": "ipython3",
   "version": "3.9.5"
  },
  "orig_nbformat": 4
 },
 "nbformat": 4,
 "nbformat_minor": 2
}
