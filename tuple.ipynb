{
 "cells": [
  {
   "cell_type": "markdown",
   "metadata": {},
   "source": [
    "# Tuple\n",
    "1. Tuple can hold multiple values\n",
    "2. Tuple is immutable (unchangable during execution)\n",
    "3. Tuple is indexed (indexing and slicing)\n",
    "4. Tuple can have duplicate item\n",
    "5. Tuple is represented by () with comma seperated values\n",
    "6. Tuple can have mixed values inside it \n",
    "7. Tuple can be nested inside list \n",
    "8. Tuple has a function called tuple() used for typecasting other sequence to tuple"
   ]
  },
  {
   "cell_type": "markdown",
   "metadata": {},
   "source": [
    "# what u need to learn\n",
    "- creation\n",
    "- slicing and indexing\n",
    "- traversal\n",
    "- functions"
   ]
  },
  {
   "cell_type": "code",
   "execution_count": 2,
   "metadata": {},
   "outputs": [
    {
     "data": {
      "text/plain": [
       "(1, 2, 3, 4)"
      ]
     },
     "execution_count": 2,
     "metadata": {},
     "output_type": "execute_result"
    }
   ],
   "source": [
    "1,2,3,4"
   ]
  },
  {
   "cell_type": "code",
   "execution_count": 1,
   "metadata": {},
   "outputs": [
    {
     "name": "stdout",
     "output_type": "stream",
     "text": [
      "(1, 2, 3, 3, 4, 5)\n",
      "<class 'tuple'>\n"
     ]
    }
   ],
   "source": [
    "t = 1,2,3,3,4,5\n",
    "print(t)\n",
    "print(type(t))"
   ]
  },
  {
   "cell_type": "code",
   "execution_count": 5,
   "metadata": {},
   "outputs": [
    {
     "name": "stdout",
     "output_type": "stream",
     "text": [
      "(2, 2, 3, 1, 'alex', 'elex')\n"
     ]
    }
   ],
   "source": [
    "t2 = (2,2,3,1,'alex','elex')\n",
    "print(t2)"
   ]
  },
  {
   "cell_type": "code",
   "execution_count": 6,
   "metadata": {},
   "outputs": [
    {
     "name": "stdout",
     "output_type": "stream",
     "text": [
      "[1, 2, 3, 4, 6] (1, 2, 3, 4, 6)\n"
     ]
    }
   ],
   "source": [
    "x = [1,2,3,4,6]\n",
    "xt = tuple(x)\n",
    "print(x,xt)"
   ]
  },
  {
   "cell_type": "code",
   "execution_count": 7,
   "metadata": {},
   "outputs": [
    {
     "name": "stdout",
     "output_type": "stream",
     "text": [
      "(10, 12, 23, 10)\n"
     ]
    }
   ],
   "source": [
    "a = 10\n",
    "b = 12\n",
    "c = 23\n",
    "x = (a,b,c,a)\n",
    "print(x)"
   ]
  },
  {
   "cell_type": "code",
   "execution_count": 8,
   "metadata": {},
   "outputs": [
    {
     "data": {
      "text/plain": [
       "(91, 2, 3, 4, 5, 6, 6, 7, 7, 8, 8, 77, 6, 6, 55, 4, 4, 4, 4, 3)"
      ]
     },
     "execution_count": 8,
     "metadata": {},
     "output_type": "execute_result"
    }
   ],
   "source": [
    "x = (91,2,3,4,5,6,6,7,7,8,8,77,6,6,55,4,4,4,4,3)\n",
    "x"
   ]
  },
  {
   "cell_type": "code",
   "execution_count": 9,
   "metadata": {},
   "outputs": [
    {
     "name": "stdout",
     "output_type": "stream",
     "text": [
      "91\n",
      "2\n",
      "3\n",
      "5\n"
     ]
    }
   ],
   "source": [
    "print(x[0]) # first value\n",
    "print(x[1]) # second value\n",
    "print(x[-1]) # last value\n",
    "print(x[4]) # third value"
   ]
  },
  {
   "cell_type": "code",
   "execution_count": 10,
   "metadata": {},
   "outputs": [
    {
     "name": "stdout",
     "output_type": "stream",
     "text": [
      "(91, 2, 3)\n",
      "(4, 4, 3)\n",
      "(6, 6, 7, 7, 8, 8, 77, 6, 6, 55)\n",
      "(3, 4, 4, 4, 4, 55, 6, 6, 77, 8, 8, 7, 7, 6, 6, 5, 4, 3, 2, 91)\n"
     ]
    }
   ],
   "source": [
    "print( x[ : 3] ) # first 3\n",
    "print( x[-3 : ] ) # last 3\n",
    "print( x[5:15] ) # from 5 to index to 14\n",
    "print( x[ : :-1]) # reverse tuple\n",
    "# all odd indexes\n",
    "# all even indexes"
   ]
  },
  {
   "cell_type": "code",
   "execution_count": 11,
   "metadata": {},
   "outputs": [
    {
     "data": {
      "text/plain": [
       "1"
      ]
     },
     "execution_count": 11,
     "metadata": {},
     "output_type": "execute_result"
    }
   ],
   "source": [
    "x.count(2)"
   ]
  },
  {
   "cell_type": "code",
   "execution_count": 12,
   "metadata": {},
   "outputs": [
    {
     "data": {
      "text/plain": [
       "0"
      ]
     },
     "execution_count": 12,
     "metadata": {},
     "output_type": "execute_result"
    }
   ],
   "source": [
    "x.count(1)"
   ]
  },
  {
   "cell_type": "code",
   "execution_count": 13,
   "metadata": {},
   "outputs": [],
   "source": [
    "p = ['sit','sat','sitting']"
   ]
  },
  {
   "cell_type": "code",
   "execution_count": 14,
   "metadata": {},
   "outputs": [
    {
     "data": {
      "text/plain": [
       "1"
      ]
     },
     "execution_count": 14,
     "metadata": {},
     "output_type": "execute_result"
    }
   ],
   "source": [
    "p.index('sat')"
   ]
  },
  {
   "cell_type": "code",
   "execution_count": 17,
   "metadata": {},
   "outputs": [
    {
     "name": "stdout",
     "output_type": "stream",
     "text": [
      "(91,)\n"
     ]
    }
   ],
   "source": [
    "print( x[0:2:3])"
   ]
  },
  {
   "cell_type": "code",
   "execution_count": null,
   "metadata": {},
   "outputs": [],
   "source": []
  }
 ],
 "metadata": {
  "interpreter": {
   "hash": "57f11aeb1dcaced031ce0a03bd916c082c2d8b27dffc26ca52ba74256b815c23"
  },
  "kernelspec": {
   "display_name": "Python 3.9.5 ('base')",
   "language": "python",
   "name": "python3"
  },
  "language_info": {
   "codemirror_mode": {
    "name": "ipython",
    "version": 3
   },
   "file_extension": ".py",
   "mimetype": "text/x-python",
   "name": "python",
   "nbconvert_exporter": "python",
   "pygments_lexer": "ipython3",
   "version": "3.9.5"
  },
  "orig_nbformat": 4
 },
 "nbformat": 4,
 "nbformat_minor": 2
}
